{
 "cells": [
  {
   "cell_type": "markdown",
   "metadata": {},
   "source": [
    "<center>\n",
    "<p><img src=\"https://mcd.unison.mx/wp-content/themes/awaken/img/logo_mcd.png\" width=\"150\">\n",
    "</p>\n",
    "\n",
    "\n",
    "\n",
    "# Curso *Ingeniería de Características*\n",
    "\n",
    "##  Proyecto 2\n",
    "   \n",
    "#### Eliud Rodríguez\n",
    "\n",
    "</center>\n",
    "\n"
   ]
  },
  {
   "cell_type": "markdown",
   "metadata": {},
   "source": [
    "# 1. Descargando datos"
   ]
  },
  {
   "cell_type": "code",
   "execution_count": 77,
   "metadata": {},
   "outputs": [],
   "source": [
    "import os  # Para manejo de archivos y directorios\n",
    "import urllib.request # Una forma estandard de descargar datos\n",
    "import datetime # Fecha de descarga\n",
    "import pandas as pd # Solo para ver el archivo descargado\n",
    "import zipfile # Descompresión de archivos\n",
    "import wget"
   ]
  },
  {
   "cell_type": "markdown",
   "metadata": {},
   "source": [
    "Es importante saber en donde nos encontramos y crear los subdirectorios necesarios para guardar los datos de manera ordenada. Tambien es importante evitar cargar datos que ya han sido descargados anteriormente."
   ]
  },
  {
   "cell_type": "code",
   "execution_count": 78,
   "metadata": {},
   "outputs": [
    {
     "name": "stdout",
     "output_type": "stream",
     "text": [
      "c:\\Users\\eliud\\projects\\MCD\\Feature_Engineering\\HW5. Proyecto_2\n"
     ]
    }
   ],
   "source": [
    "print(os.getcwd())\n",
    "\n",
    "# Data about the budget transparency in public education in Sonora, Mexico\n",
    "budget_transparency_url_1 = \"https://api.datamexico.org/tesseract/data.csv?Department=21&State=26&Year=2013%2C2014%2C2015%2C2016%2C2017%2C2018%2C2019%2C2020%2C2021&cube=budget_transparency&drilldowns=Department%2CState%2CYear&locale=es&measures=Amount+Approved%2CAmount+Executed\"\n",
    "budget_transparency_file_1 = \"budget_transparency_file.csv\"\n",
    "subdir_1 = \"./data/budget_transparency_\"\n",
    "info_1 = \"\"\"\n",
    "        Transparencia presupuestaria del gobierno de México.\n",
    "        Muestra el gasto público, más en específico el presupuesto aprobado y el presupuesto ejecutado en\n",
    "        el Estado de Sonora, en el departamento de Educación Pública, entre los años 2015 - 2021.\n",
    "        \"\"\" \n",
    "\n",
    "\n",
    "# Data about the number of crimes in Sonora, Mexico\n",
    "crimes_url = \"https://api.datamexico.org/tesseract/data.csv?State=26&Year=2013%2C2014%2C2015%2C2016%2C2017%2C2018%2C2019%2C2020%2C2021&cube=sesnsp_crimes&drilldowns=Municipality%2CYear&locale=es&measures=Value\"\n",
    "crimes_file = \"crimes_file.csv\"\n",
    "subdir_2 = \"./data/Crimes_files_\"\n",
    "info_2 = \"\"\"\n",
    "        Seguridad Pública de México.\n",
    "        Muestra el número de crímenes que se han cometido en los diferentes municipios del Estado\n",
    "        de Sonora entre los años 2015 - 2022.\n",
    "        \"\"\" \n",
    "\n",
    "\n",
    "# Data with employment information in Sonora, Mexico\n",
    "employment_salary_url = \"https://api.datamexico.org/tesseract/data.csv?State=26&Year=2013%2C2014%2C2015%2C2016%2C2017%2C2018%2C2019%2C2020%2C2021%2C2022&cube=inegi_enoe&drilldowns=Municipality%2CYear&locale=es&measures=Worked+Hours+Week%2CWorked+Days+Week%2CMonthly+Wage%2CNumber+of+Records\"\n",
    "employment_salary_file = \"employment_salary_file.csv\"\n",
    "subdir_3 = \"./data/employment_salary_file_\"\n",
    "info_3 = \"\"\"\n",
    "        Empleo en México.\n",
    "        Muestra datos sobre ocupación y empleo en México, datos como promedio de horas semanales trabajadas,\n",
    "        promedio de días semanales trabajos, salario mensual promedio (MXN), entre otros\n",
    "        \"\"\" \n"
   ]
  },
  {
   "cell_type": "code",
   "execution_count": 79,
   "metadata": {},
   "outputs": [],
   "source": [
    "# Function to download the datasets\n",
    "def downloading_dataset(dataset_url, dataset_name, dataset_subdir, info_text):\n",
    "    if not os.path.exists(dataset_name):\n",
    "        if not os.path.exists(dataset_subdir):\n",
    "            os.makedirs(dataset_subdir)\n",
    "        urllib.request.urlretrieve(dataset_url, dataset_subdir + \"/\" + dataset_name)  \n",
    "\n",
    "        with open(dataset_subdir + \"/info.txt\", 'w') as f:\n",
    "            f.write(\"Información sobre \" + dataset_name)\n",
    "            info = info_text\n",
    "            f.write(info + '\\n')\n",
    "            f.write(\"Descargado el \" + datetime.datetime.now().strftime(\"%Y-%m-%d %H:%M:%S\") + \"\\n\")\n",
    "            f.write(\"Desde: \" + dataset_url + \"\\n\")\n",
    "            f.write(\"Nombre: \" + dataset_name + \"\\n\")"
   ]
  },
  {
   "cell_type": "code",
   "execution_count": 80,
   "metadata": {},
   "outputs": [],
   "source": [
    "# Downloading the 3 datasets\n",
    "downloading_dataset(budget_transparency_url_1, budget_transparency_file_1, subdir_1, info_1)\n",
    "downloading_dataset(crimes_url, crimes_file, subdir_2, info_2)\n",
    "downloading_dataset(employment_salary_url, employment_salary_file, subdir_3, info_3)"
   ]
  },
  {
   "cell_type": "markdown",
   "metadata": {},
   "source": [
    "# Manipulating data"
   ]
  },
  {
   "cell_type": "code",
   "execution_count": 81,
   "metadata": {},
   "outputs": [],
   "source": [
    "# Reading dataframes\n",
    "df_1 = pd.read_csv('./data/budget_transparency_/budget_transparency_file.csv')\n",
    "df_2 = pd.read_csv('./data/Crimes_files_/crimes_file.csv')\n",
    "df_3 = pd.read_csv('./data/employment_salary_file_/employment_salary_file.csv')\n"
   ]
  },
  {
   "cell_type": "code",
   "execution_count": 82,
   "metadata": {},
   "outputs": [
    {
     "data": {
      "text/html": [
       "<div>\n",
       "<style scoped>\n",
       "    .dataframe tbody tr th:only-of-type {\n",
       "        vertical-align: middle;\n",
       "    }\n",
       "\n",
       "    .dataframe tbody tr th {\n",
       "        vertical-align: top;\n",
       "    }\n",
       "\n",
       "    .dataframe thead th {\n",
       "        text-align: right;\n",
       "    }\n",
       "</style>\n",
       "<table border=\"1\" class=\"dataframe\">\n",
       "  <thead>\n",
       "    <tr style=\"text-align: right;\">\n",
       "      <th></th>\n",
       "      <th>Department ID</th>\n",
       "      <th>Department</th>\n",
       "      <th>State ID</th>\n",
       "      <th>State</th>\n",
       "      <th>Year</th>\n",
       "      <th>Amount Approved</th>\n",
       "      <th>Amount Executed</th>\n",
       "    </tr>\n",
       "  </thead>\n",
       "  <tbody>\n",
       "    <tr>\n",
       "      <th>0</th>\n",
       "      <td>21</td>\n",
       "      <td>Educación Pública</td>\n",
       "      <td>26</td>\n",
       "      <td>Sonora</td>\n",
       "      <td>2013</td>\n",
       "      <td>2440657033</td>\n",
       "      <td>3.870289e+09</td>\n",
       "    </tr>\n",
       "    <tr>\n",
       "      <th>1</th>\n",
       "      <td>21</td>\n",
       "      <td>Educación Pública</td>\n",
       "      <td>26</td>\n",
       "      <td>Sonora</td>\n",
       "      <td>2014</td>\n",
       "      <td>2803366068</td>\n",
       "      <td>4.255247e+09</td>\n",
       "    </tr>\n",
       "    <tr>\n",
       "      <th>2</th>\n",
       "      <td>21</td>\n",
       "      <td>Educación Pública</td>\n",
       "      <td>26</td>\n",
       "      <td>Sonora</td>\n",
       "      <td>2015</td>\n",
       "      <td>3012993383</td>\n",
       "      <td>3.779522e+09</td>\n",
       "    </tr>\n",
       "    <tr>\n",
       "      <th>3</th>\n",
       "      <td>21</td>\n",
       "      <td>Educación Pública</td>\n",
       "      <td>26</td>\n",
       "      <td>Sonora</td>\n",
       "      <td>2016</td>\n",
       "      <td>3023689117</td>\n",
       "      <td>4.375163e+09</td>\n",
       "    </tr>\n",
       "    <tr>\n",
       "      <th>4</th>\n",
       "      <td>21</td>\n",
       "      <td>Educación Pública</td>\n",
       "      <td>26</td>\n",
       "      <td>Sonora</td>\n",
       "      <td>2017</td>\n",
       "      <td>3149498362</td>\n",
       "      <td>4.148071e+09</td>\n",
       "    </tr>\n",
       "    <tr>\n",
       "      <th>5</th>\n",
       "      <td>21</td>\n",
       "      <td>Educación Pública</td>\n",
       "      <td>26</td>\n",
       "      <td>Sonora</td>\n",
       "      <td>2018</td>\n",
       "      <td>3276997746</td>\n",
       "      <td>4.963138e+09</td>\n",
       "    </tr>\n",
       "    <tr>\n",
       "      <th>6</th>\n",
       "      <td>21</td>\n",
       "      <td>Educación Pública</td>\n",
       "      <td>26</td>\n",
       "      <td>Sonora</td>\n",
       "      <td>2019</td>\n",
       "      <td>3314654327</td>\n",
       "      <td>5.382599e+09</td>\n",
       "    </tr>\n",
       "    <tr>\n",
       "      <th>7</th>\n",
       "      <td>21</td>\n",
       "      <td>Educación Pública</td>\n",
       "      <td>26</td>\n",
       "      <td>Sonora</td>\n",
       "      <td>2020</td>\n",
       "      <td>3353037286</td>\n",
       "      <td>6.069537e+09</td>\n",
       "    </tr>\n",
       "    <tr>\n",
       "      <th>8</th>\n",
       "      <td>21</td>\n",
       "      <td>Educación Pública</td>\n",
       "      <td>26</td>\n",
       "      <td>Sonora</td>\n",
       "      <td>2021</td>\n",
       "      <td>3374421637</td>\n",
       "      <td>6.779901e+09</td>\n",
       "    </tr>\n",
       "  </tbody>\n",
       "</table>\n",
       "</div>"
      ],
      "text/plain": [
       "   Department ID         Department  State ID   State  Year  Amount Approved  \\\n",
       "0             21  Educación Pública        26  Sonora  2013       2440657033   \n",
       "1             21  Educación Pública        26  Sonora  2014       2803366068   \n",
       "2             21  Educación Pública        26  Sonora  2015       3012993383   \n",
       "3             21  Educación Pública        26  Sonora  2016       3023689117   \n",
       "4             21  Educación Pública        26  Sonora  2017       3149498362   \n",
       "5             21  Educación Pública        26  Sonora  2018       3276997746   \n",
       "6             21  Educación Pública        26  Sonora  2019       3314654327   \n",
       "7             21  Educación Pública        26  Sonora  2020       3353037286   \n",
       "8             21  Educación Pública        26  Sonora  2021       3374421637   \n",
       "\n",
       "   Amount Executed  \n",
       "0     3.870289e+09  \n",
       "1     4.255247e+09  \n",
       "2     3.779522e+09  \n",
       "3     4.375163e+09  \n",
       "4     4.148071e+09  \n",
       "5     4.963138e+09  \n",
       "6     5.382599e+09  \n",
       "7     6.069537e+09  \n",
       "8     6.779901e+09  "
      ]
     },
     "execution_count": 82,
     "metadata": {},
     "output_type": "execute_result"
    }
   ],
   "source": [
    "df_1"
   ]
  },
  {
   "cell_type": "code",
   "execution_count": 83,
   "metadata": {},
   "outputs": [
    {
     "data": {
      "text/html": [
       "<div>\n",
       "<style scoped>\n",
       "    .dataframe tbody tr th:only-of-type {\n",
       "        vertical-align: middle;\n",
       "    }\n",
       "\n",
       "    .dataframe tbody tr th {\n",
       "        vertical-align: top;\n",
       "    }\n",
       "\n",
       "    .dataframe thead th {\n",
       "        text-align: right;\n",
       "    }\n",
       "</style>\n",
       "<table border=\"1\" class=\"dataframe\">\n",
       "  <thead>\n",
       "    <tr style=\"text-align: right;\">\n",
       "      <th></th>\n",
       "      <th>Municipality ID</th>\n",
       "      <th>Municipality</th>\n",
       "      <th>Year</th>\n",
       "      <th>Value</th>\n",
       "    </tr>\n",
       "  </thead>\n",
       "  <tbody>\n",
       "    <tr>\n",
       "      <th>0</th>\n",
       "      <td>26001</td>\n",
       "      <td>Aconchi</td>\n",
       "      <td>2015</td>\n",
       "      <td>9</td>\n",
       "    </tr>\n",
       "    <tr>\n",
       "      <th>1</th>\n",
       "      <td>26001</td>\n",
       "      <td>Aconchi</td>\n",
       "      <td>2016</td>\n",
       "      <td>56</td>\n",
       "    </tr>\n",
       "    <tr>\n",
       "      <th>2</th>\n",
       "      <td>26001</td>\n",
       "      <td>Aconchi</td>\n",
       "      <td>2017</td>\n",
       "      <td>20</td>\n",
       "    </tr>\n",
       "    <tr>\n",
       "      <th>3</th>\n",
       "      <td>26001</td>\n",
       "      <td>Aconchi</td>\n",
       "      <td>2018</td>\n",
       "      <td>13</td>\n",
       "    </tr>\n",
       "    <tr>\n",
       "      <th>4</th>\n",
       "      <td>26001</td>\n",
       "      <td>Aconchi</td>\n",
       "      <td>2019</td>\n",
       "      <td>17</td>\n",
       "    </tr>\n",
       "    <tr>\n",
       "      <th>...</th>\n",
       "      <td>...</td>\n",
       "      <td>...</td>\n",
       "      <td>...</td>\n",
       "      <td>...</td>\n",
       "    </tr>\n",
       "    <tr>\n",
       "      <th>506</th>\n",
       "      <td>26999</td>\n",
       "      <td>No Informado</td>\n",
       "      <td>2017</td>\n",
       "      <td>19</td>\n",
       "    </tr>\n",
       "    <tr>\n",
       "      <th>507</th>\n",
       "      <td>26999</td>\n",
       "      <td>No Informado</td>\n",
       "      <td>2018</td>\n",
       "      <td>14</td>\n",
       "    </tr>\n",
       "    <tr>\n",
       "      <th>508</th>\n",
       "      <td>26999</td>\n",
       "      <td>No Informado</td>\n",
       "      <td>2019</td>\n",
       "      <td>11</td>\n",
       "    </tr>\n",
       "    <tr>\n",
       "      <th>509</th>\n",
       "      <td>26999</td>\n",
       "      <td>No Informado</td>\n",
       "      <td>2020</td>\n",
       "      <td>9</td>\n",
       "    </tr>\n",
       "    <tr>\n",
       "      <th>510</th>\n",
       "      <td>26999</td>\n",
       "      <td>No Informado</td>\n",
       "      <td>2021</td>\n",
       "      <td>22</td>\n",
       "    </tr>\n",
       "  </tbody>\n",
       "</table>\n",
       "<p>511 rows × 4 columns</p>\n",
       "</div>"
      ],
      "text/plain": [
       "     Municipality ID  Municipality  Year  Value\n",
       "0              26001       Aconchi  2015      9\n",
       "1              26001       Aconchi  2016     56\n",
       "2              26001       Aconchi  2017     20\n",
       "3              26001       Aconchi  2018     13\n",
       "4              26001       Aconchi  2019     17\n",
       "..               ...           ...   ...    ...\n",
       "506            26999  No Informado  2017     19\n",
       "507            26999  No Informado  2018     14\n",
       "508            26999  No Informado  2019     11\n",
       "509            26999  No Informado  2020      9\n",
       "510            26999  No Informado  2021     22\n",
       "\n",
       "[511 rows x 4 columns]"
      ]
     },
     "execution_count": 83,
     "metadata": {},
     "output_type": "execute_result"
    }
   ],
   "source": [
    "df_2"
   ]
  },
  {
   "cell_type": "code",
   "execution_count": 84,
   "metadata": {},
   "outputs": [
    {
     "data": {
      "text/html": [
       "<div>\n",
       "<style scoped>\n",
       "    .dataframe tbody tr th:only-of-type {\n",
       "        vertical-align: middle;\n",
       "    }\n",
       "\n",
       "    .dataframe tbody tr th {\n",
       "        vertical-align: top;\n",
       "    }\n",
       "\n",
       "    .dataframe thead th {\n",
       "        text-align: right;\n",
       "    }\n",
       "</style>\n",
       "<table border=\"1\" class=\"dataframe\">\n",
       "  <thead>\n",
       "    <tr style=\"text-align: right;\">\n",
       "      <th></th>\n",
       "      <th>Municipality ID</th>\n",
       "      <th>Municipality</th>\n",
       "      <th>Year</th>\n",
       "      <th>Worked Hours Week</th>\n",
       "      <th>Worked Days Week</th>\n",
       "      <th>Monthly Wage</th>\n",
       "      <th>Number of Records</th>\n",
       "    </tr>\n",
       "  </thead>\n",
       "  <tbody>\n",
       "    <tr>\n",
       "      <th>0</th>\n",
       "      <td>26002</td>\n",
       "      <td>Agua Prieta</td>\n",
       "      <td>2013</td>\n",
       "      <td>26.065868</td>\n",
       "      <td>3.142497</td>\n",
       "      <td>2477.529552</td>\n",
       "      <td>397</td>\n",
       "    </tr>\n",
       "    <tr>\n",
       "      <th>1</th>\n",
       "      <td>26002</td>\n",
       "      <td>Agua Prieta</td>\n",
       "      <td>2014</td>\n",
       "      <td>29.955015</td>\n",
       "      <td>3.480326</td>\n",
       "      <td>2929.451982</td>\n",
       "      <td>509</td>\n",
       "    </tr>\n",
       "    <tr>\n",
       "      <th>2</th>\n",
       "      <td>26002</td>\n",
       "      <td>Agua Prieta</td>\n",
       "      <td>2015</td>\n",
       "      <td>29.285976</td>\n",
       "      <td>3.450901</td>\n",
       "      <td>3172.968649</td>\n",
       "      <td>429</td>\n",
       "    </tr>\n",
       "    <tr>\n",
       "      <th>3</th>\n",
       "      <td>26002</td>\n",
       "      <td>Agua Prieta</td>\n",
       "      <td>2016</td>\n",
       "      <td>26.139957</td>\n",
       "      <td>3.140206</td>\n",
       "      <td>2741.936778</td>\n",
       "      <td>236</td>\n",
       "    </tr>\n",
       "    <tr>\n",
       "      <th>4</th>\n",
       "      <td>26002</td>\n",
       "      <td>Agua Prieta</td>\n",
       "      <td>2017</td>\n",
       "      <td>26.132715</td>\n",
       "      <td>3.251971</td>\n",
       "      <td>2995.571070</td>\n",
       "      <td>655</td>\n",
       "    </tr>\n",
       "    <tr>\n",
       "      <th>...</th>\n",
       "      <td>...</td>\n",
       "      <td>...</td>\n",
       "      <td>...</td>\n",
       "      <td>...</td>\n",
       "      <td>...</td>\n",
       "      <td>...</td>\n",
       "      <td>...</td>\n",
       "    </tr>\n",
       "    <tr>\n",
       "      <th>241</th>\n",
       "      <td>26071</td>\n",
       "      <td>Benito Juárez</td>\n",
       "      <td>2022</td>\n",
       "      <td>24.053571</td>\n",
       "      <td>2.892857</td>\n",
       "      <td>3307.500000</td>\n",
       "      <td>56</td>\n",
       "    </tr>\n",
       "    <tr>\n",
       "      <th>242</th>\n",
       "      <td>26072</td>\n",
       "      <td>San Ignacio Río Muerto</td>\n",
       "      <td>2013</td>\n",
       "      <td>15.414716</td>\n",
       "      <td>1.914730</td>\n",
       "      <td>1683.730276</td>\n",
       "      <td>164</td>\n",
       "    </tr>\n",
       "    <tr>\n",
       "      <th>243</th>\n",
       "      <td>26072</td>\n",
       "      <td>San Ignacio Río Muerto</td>\n",
       "      <td>2020</td>\n",
       "      <td>28.444444</td>\n",
       "      <td>3.155556</td>\n",
       "      <td>2764.466667</td>\n",
       "      <td>45</td>\n",
       "    </tr>\n",
       "    <tr>\n",
       "      <th>244</th>\n",
       "      <td>26072</td>\n",
       "      <td>San Ignacio Río Muerto</td>\n",
       "      <td>2021</td>\n",
       "      <td>29.515036</td>\n",
       "      <td>3.532888</td>\n",
       "      <td>3033.697420</td>\n",
       "      <td>201</td>\n",
       "    </tr>\n",
       "    <tr>\n",
       "      <th>245</th>\n",
       "      <td>26999</td>\n",
       "      <td>No Informado</td>\n",
       "      <td>2022</td>\n",
       "      <td>28.784854</td>\n",
       "      <td>3.990750</td>\n",
       "      <td>4616.179416</td>\n",
       "      <td>72</td>\n",
       "    </tr>\n",
       "  </tbody>\n",
       "</table>\n",
       "<p>246 rows × 7 columns</p>\n",
       "</div>"
      ],
      "text/plain": [
       "     Municipality ID            Municipality  Year  Worked Hours Week  \\\n",
       "0              26002             Agua Prieta  2013          26.065868   \n",
       "1              26002             Agua Prieta  2014          29.955015   \n",
       "2              26002             Agua Prieta  2015          29.285976   \n",
       "3              26002             Agua Prieta  2016          26.139957   \n",
       "4              26002             Agua Prieta  2017          26.132715   \n",
       "..               ...                     ...   ...                ...   \n",
       "241            26071           Benito Juárez  2022          24.053571   \n",
       "242            26072  San Ignacio Río Muerto  2013          15.414716   \n",
       "243            26072  San Ignacio Río Muerto  2020          28.444444   \n",
       "244            26072  San Ignacio Río Muerto  2021          29.515036   \n",
       "245            26999            No Informado  2022          28.784854   \n",
       "\n",
       "     Worked Days Week  Monthly Wage  Number of Records  \n",
       "0            3.142497   2477.529552                397  \n",
       "1            3.480326   2929.451982                509  \n",
       "2            3.450901   3172.968649                429  \n",
       "3            3.140206   2741.936778                236  \n",
       "4            3.251971   2995.571070                655  \n",
       "..                ...           ...                ...  \n",
       "241          2.892857   3307.500000                 56  \n",
       "242          1.914730   1683.730276                164  \n",
       "243          3.155556   2764.466667                 45  \n",
       "244          3.532888   3033.697420                201  \n",
       "245          3.990750   4616.179416                 72  \n",
       "\n",
       "[246 rows x 7 columns]"
      ]
     },
     "execution_count": 84,
     "metadata": {},
     "output_type": "execute_result"
    }
   ],
   "source": [
    "df_3"
   ]
  },
  {
   "cell_type": "code",
   "execution_count": 85,
   "metadata": {},
   "outputs": [],
   "source": [
    "# Dropping these columns from df_3 because we won't be using them\n",
    "df_1 = df_1.drop(columns=['Department ID', 'Department', 'State ID', 'State', 'Amount Approved'])\n",
    "df_2 = df_2.drop(columns=['Municipality ID'])\n",
    "df_3 = df_3.drop(columns=['Municipality ID', 'Worked Hours Week', 'Worked Days Week', 'Number of Records'])\n",
    "\n",
    "df_1.rename(columns={'Amount Executed':'amount_executed'}, inplace=True)\n",
    "df_2.rename(columns={'Value':'number_crimes'}, inplace=True)\n",
    "df_3.rename(columns={'Monthly Wage':'monthly_wage'}, inplace=True)"
   ]
  },
  {
   "cell_type": "code",
   "execution_count": 86,
   "metadata": {},
   "outputs": [
    {
     "data": {
      "text/html": [
       "<div>\n",
       "<style scoped>\n",
       "    .dataframe tbody tr th:only-of-type {\n",
       "        vertical-align: middle;\n",
       "    }\n",
       "\n",
       "    .dataframe tbody tr th {\n",
       "        vertical-align: top;\n",
       "    }\n",
       "\n",
       "    .dataframe thead th {\n",
       "        text-align: right;\n",
       "    }\n",
       "</style>\n",
       "<table border=\"1\" class=\"dataframe\">\n",
       "  <thead>\n",
       "    <tr style=\"text-align: right;\">\n",
       "      <th></th>\n",
       "      <th>Year</th>\n",
       "      <th>amount_executed</th>\n",
       "    </tr>\n",
       "  </thead>\n",
       "  <tbody>\n",
       "    <tr>\n",
       "      <th>0</th>\n",
       "      <td>2013</td>\n",
       "      <td>3.870289e+09</td>\n",
       "    </tr>\n",
       "    <tr>\n",
       "      <th>1</th>\n",
       "      <td>2014</td>\n",
       "      <td>4.255247e+09</td>\n",
       "    </tr>\n",
       "    <tr>\n",
       "      <th>2</th>\n",
       "      <td>2015</td>\n",
       "      <td>3.779522e+09</td>\n",
       "    </tr>\n",
       "    <tr>\n",
       "      <th>3</th>\n",
       "      <td>2016</td>\n",
       "      <td>4.375163e+09</td>\n",
       "    </tr>\n",
       "    <tr>\n",
       "      <th>4</th>\n",
       "      <td>2017</td>\n",
       "      <td>4.148071e+09</td>\n",
       "    </tr>\n",
       "    <tr>\n",
       "      <th>5</th>\n",
       "      <td>2018</td>\n",
       "      <td>4.963138e+09</td>\n",
       "    </tr>\n",
       "    <tr>\n",
       "      <th>6</th>\n",
       "      <td>2019</td>\n",
       "      <td>5.382599e+09</td>\n",
       "    </tr>\n",
       "    <tr>\n",
       "      <th>7</th>\n",
       "      <td>2020</td>\n",
       "      <td>6.069537e+09</td>\n",
       "    </tr>\n",
       "    <tr>\n",
       "      <th>8</th>\n",
       "      <td>2021</td>\n",
       "      <td>6.779901e+09</td>\n",
       "    </tr>\n",
       "  </tbody>\n",
       "</table>\n",
       "</div>"
      ],
      "text/plain": [
       "   Year  amount_executed\n",
       "0  2013     3.870289e+09\n",
       "1  2014     4.255247e+09\n",
       "2  2015     3.779522e+09\n",
       "3  2016     4.375163e+09\n",
       "4  2017     4.148071e+09\n",
       "5  2018     4.963138e+09\n",
       "6  2019     5.382599e+09\n",
       "7  2020     6.069537e+09\n",
       "8  2021     6.779901e+09"
      ]
     },
     "execution_count": 86,
     "metadata": {},
     "output_type": "execute_result"
    }
   ],
   "source": [
    "df_1"
   ]
  },
  {
   "cell_type": "code",
   "execution_count": 87,
   "metadata": {},
   "outputs": [
    {
     "data": {
      "text/html": [
       "<div>\n",
       "<style scoped>\n",
       "    .dataframe tbody tr th:only-of-type {\n",
       "        vertical-align: middle;\n",
       "    }\n",
       "\n",
       "    .dataframe tbody tr th {\n",
       "        vertical-align: top;\n",
       "    }\n",
       "\n",
       "    .dataframe thead th {\n",
       "        text-align: right;\n",
       "    }\n",
       "</style>\n",
       "<table border=\"1\" class=\"dataframe\">\n",
       "  <thead>\n",
       "    <tr style=\"text-align: right;\">\n",
       "      <th></th>\n",
       "      <th>Municipality</th>\n",
       "      <th>Year</th>\n",
       "      <th>number_crimes</th>\n",
       "    </tr>\n",
       "  </thead>\n",
       "  <tbody>\n",
       "    <tr>\n",
       "      <th>0</th>\n",
       "      <td>Aconchi</td>\n",
       "      <td>2015</td>\n",
       "      <td>9</td>\n",
       "    </tr>\n",
       "    <tr>\n",
       "      <th>1</th>\n",
       "      <td>Aconchi</td>\n",
       "      <td>2016</td>\n",
       "      <td>56</td>\n",
       "    </tr>\n",
       "    <tr>\n",
       "      <th>2</th>\n",
       "      <td>Aconchi</td>\n",
       "      <td>2017</td>\n",
       "      <td>20</td>\n",
       "    </tr>\n",
       "    <tr>\n",
       "      <th>3</th>\n",
       "      <td>Aconchi</td>\n",
       "      <td>2018</td>\n",
       "      <td>13</td>\n",
       "    </tr>\n",
       "    <tr>\n",
       "      <th>4</th>\n",
       "      <td>Aconchi</td>\n",
       "      <td>2019</td>\n",
       "      <td>17</td>\n",
       "    </tr>\n",
       "    <tr>\n",
       "      <th>...</th>\n",
       "      <td>...</td>\n",
       "      <td>...</td>\n",
       "      <td>...</td>\n",
       "    </tr>\n",
       "    <tr>\n",
       "      <th>506</th>\n",
       "      <td>No Informado</td>\n",
       "      <td>2017</td>\n",
       "      <td>19</td>\n",
       "    </tr>\n",
       "    <tr>\n",
       "      <th>507</th>\n",
       "      <td>No Informado</td>\n",
       "      <td>2018</td>\n",
       "      <td>14</td>\n",
       "    </tr>\n",
       "    <tr>\n",
       "      <th>508</th>\n",
       "      <td>No Informado</td>\n",
       "      <td>2019</td>\n",
       "      <td>11</td>\n",
       "    </tr>\n",
       "    <tr>\n",
       "      <th>509</th>\n",
       "      <td>No Informado</td>\n",
       "      <td>2020</td>\n",
       "      <td>9</td>\n",
       "    </tr>\n",
       "    <tr>\n",
       "      <th>510</th>\n",
       "      <td>No Informado</td>\n",
       "      <td>2021</td>\n",
       "      <td>22</td>\n",
       "    </tr>\n",
       "  </tbody>\n",
       "</table>\n",
       "<p>511 rows × 3 columns</p>\n",
       "</div>"
      ],
      "text/plain": [
       "     Municipality  Year  number_crimes\n",
       "0         Aconchi  2015              9\n",
       "1         Aconchi  2016             56\n",
       "2         Aconchi  2017             20\n",
       "3         Aconchi  2018             13\n",
       "4         Aconchi  2019             17\n",
       "..            ...   ...            ...\n",
       "506  No Informado  2017             19\n",
       "507  No Informado  2018             14\n",
       "508  No Informado  2019             11\n",
       "509  No Informado  2020              9\n",
       "510  No Informado  2021             22\n",
       "\n",
       "[511 rows x 3 columns]"
      ]
     },
     "execution_count": 87,
     "metadata": {},
     "output_type": "execute_result"
    }
   ],
   "source": [
    "df_2"
   ]
  },
  {
   "cell_type": "code",
   "execution_count": 88,
   "metadata": {},
   "outputs": [
    {
     "data": {
      "text/html": [
       "<div>\n",
       "<style scoped>\n",
       "    .dataframe tbody tr th:only-of-type {\n",
       "        vertical-align: middle;\n",
       "    }\n",
       "\n",
       "    .dataframe tbody tr th {\n",
       "        vertical-align: top;\n",
       "    }\n",
       "\n",
       "    .dataframe thead th {\n",
       "        text-align: right;\n",
       "    }\n",
       "</style>\n",
       "<table border=\"1\" class=\"dataframe\">\n",
       "  <thead>\n",
       "    <tr style=\"text-align: right;\">\n",
       "      <th></th>\n",
       "      <th>Municipality</th>\n",
       "      <th>Year</th>\n",
       "      <th>monthly_wage</th>\n",
       "    </tr>\n",
       "  </thead>\n",
       "  <tbody>\n",
       "    <tr>\n",
       "      <th>0</th>\n",
       "      <td>Agua Prieta</td>\n",
       "      <td>2013</td>\n",
       "      <td>2477.529552</td>\n",
       "    </tr>\n",
       "    <tr>\n",
       "      <th>1</th>\n",
       "      <td>Agua Prieta</td>\n",
       "      <td>2014</td>\n",
       "      <td>2929.451982</td>\n",
       "    </tr>\n",
       "    <tr>\n",
       "      <th>2</th>\n",
       "      <td>Agua Prieta</td>\n",
       "      <td>2015</td>\n",
       "      <td>3172.968649</td>\n",
       "    </tr>\n",
       "    <tr>\n",
       "      <th>3</th>\n",
       "      <td>Agua Prieta</td>\n",
       "      <td>2016</td>\n",
       "      <td>2741.936778</td>\n",
       "    </tr>\n",
       "    <tr>\n",
       "      <th>4</th>\n",
       "      <td>Agua Prieta</td>\n",
       "      <td>2017</td>\n",
       "      <td>2995.571070</td>\n",
       "    </tr>\n",
       "    <tr>\n",
       "      <th>...</th>\n",
       "      <td>...</td>\n",
       "      <td>...</td>\n",
       "      <td>...</td>\n",
       "    </tr>\n",
       "    <tr>\n",
       "      <th>241</th>\n",
       "      <td>Benito Juárez</td>\n",
       "      <td>2022</td>\n",
       "      <td>3307.500000</td>\n",
       "    </tr>\n",
       "    <tr>\n",
       "      <th>242</th>\n",
       "      <td>San Ignacio Río Muerto</td>\n",
       "      <td>2013</td>\n",
       "      <td>1683.730276</td>\n",
       "    </tr>\n",
       "    <tr>\n",
       "      <th>243</th>\n",
       "      <td>San Ignacio Río Muerto</td>\n",
       "      <td>2020</td>\n",
       "      <td>2764.466667</td>\n",
       "    </tr>\n",
       "    <tr>\n",
       "      <th>244</th>\n",
       "      <td>San Ignacio Río Muerto</td>\n",
       "      <td>2021</td>\n",
       "      <td>3033.697420</td>\n",
       "    </tr>\n",
       "    <tr>\n",
       "      <th>245</th>\n",
       "      <td>No Informado</td>\n",
       "      <td>2022</td>\n",
       "      <td>4616.179416</td>\n",
       "    </tr>\n",
       "  </tbody>\n",
       "</table>\n",
       "<p>246 rows × 3 columns</p>\n",
       "</div>"
      ],
      "text/plain": [
       "               Municipality  Year  monthly_wage\n",
       "0               Agua Prieta  2013   2477.529552\n",
       "1               Agua Prieta  2014   2929.451982\n",
       "2               Agua Prieta  2015   3172.968649\n",
       "3               Agua Prieta  2016   2741.936778\n",
       "4               Agua Prieta  2017   2995.571070\n",
       "..                      ...   ...           ...\n",
       "241           Benito Juárez  2022   3307.500000\n",
       "242  San Ignacio Río Muerto  2013   1683.730276\n",
       "243  San Ignacio Río Muerto  2020   2764.466667\n",
       "244  San Ignacio Río Muerto  2021   3033.697420\n",
       "245            No Informado  2022   4616.179416\n",
       "\n",
       "[246 rows x 3 columns]"
      ]
     },
     "execution_count": 88,
     "metadata": {},
     "output_type": "execute_result"
    }
   ],
   "source": [
    "df_3"
   ]
  },
  {
   "cell_type": "code",
   "execution_count": 89,
   "metadata": {},
   "outputs": [],
   "source": [
    "# # merge all dataframes\n",
    "# df = df_2.merge(df_3, on=['Municipality','Year'])\n",
    "# df = df.merge(df_1, on=\"Year\")\n",
    "\n",
    "df = df_1.merge(df_2, on=\"Year\")\n",
    "\n",
    "# # converting year to datetime type\n",
    "df.Year = pd.to_datetime(df.Year, format='%Y')"
   ]
  },
  {
   "cell_type": "code",
   "execution_count": 90,
   "metadata": {},
   "outputs": [
    {
     "data": {
      "text/plain": [
       "Aconchi                7\n",
       "Moctezuma              7\n",
       "San Javier             7\n",
       "San Felipe de Jesús    7\n",
       "Sahuaripa              7\n",
       "                      ..\n",
       "Empalme                7\n",
       "Divisaderos            7\n",
       "Cumpas                 7\n",
       "Cucurpe                7\n",
       "No Informado           7\n",
       "Name: Municipality, Length: 73, dtype: int64"
      ]
     },
     "execution_count": 90,
     "metadata": {},
     "output_type": "execute_result"
    }
   ],
   "source": [
    "df.Municipality.value_counts()"
   ]
  },
  {
   "cell_type": "code",
   "execution_count": 91,
   "metadata": {},
   "outputs": [
    {
     "data": {
      "text/html": [
       "<div>\n",
       "<style scoped>\n",
       "    .dataframe tbody tr th:only-of-type {\n",
       "        vertical-align: middle;\n",
       "    }\n",
       "\n",
       "    .dataframe tbody tr th {\n",
       "        vertical-align: top;\n",
       "    }\n",
       "\n",
       "    .dataframe thead th {\n",
       "        text-align: right;\n",
       "    }\n",
       "</style>\n",
       "<table border=\"1\" class=\"dataframe\">\n",
       "  <thead>\n",
       "    <tr style=\"text-align: right;\">\n",
       "      <th></th>\n",
       "      <th>amount_executed</th>\n",
       "      <th>number_crimes</th>\n",
       "    </tr>\n",
       "  </thead>\n",
       "  <tbody>\n",
       "    <tr>\n",
       "      <th>count</th>\n",
       "      <td>5.110000e+02</td>\n",
       "      <td>511.000000</td>\n",
       "    </tr>\n",
       "    <tr>\n",
       "      <th>mean</th>\n",
       "      <td>5.071133e+09</td>\n",
       "      <td>399.365949</td>\n",
       "    </tr>\n",
       "    <tr>\n",
       "      <th>std</th>\n",
       "      <td>1.003126e+09</td>\n",
       "      <td>1579.487543</td>\n",
       "    </tr>\n",
       "    <tr>\n",
       "      <th>min</th>\n",
       "      <td>3.779522e+09</td>\n",
       "      <td>0.000000</td>\n",
       "    </tr>\n",
       "    <tr>\n",
       "      <th>25%</th>\n",
       "      <td>4.148071e+09</td>\n",
       "      <td>4.000000</td>\n",
       "    </tr>\n",
       "    <tr>\n",
       "      <th>50%</th>\n",
       "      <td>4.963138e+09</td>\n",
       "      <td>17.000000</td>\n",
       "    </tr>\n",
       "    <tr>\n",
       "      <th>75%</th>\n",
       "      <td>6.069537e+09</td>\n",
       "      <td>102.000000</td>\n",
       "    </tr>\n",
       "    <tr>\n",
       "      <th>max</th>\n",
       "      <td>6.779901e+09</td>\n",
       "      <td>19092.000000</td>\n",
       "    </tr>\n",
       "  </tbody>\n",
       "</table>\n",
       "</div>"
      ],
      "text/plain": [
       "       amount_executed  number_crimes\n",
       "count     5.110000e+02     511.000000\n",
       "mean      5.071133e+09     399.365949\n",
       "std       1.003126e+09    1579.487543\n",
       "min       3.779522e+09       0.000000\n",
       "25%       4.148071e+09       4.000000\n",
       "50%       4.963138e+09      17.000000\n",
       "75%       6.069537e+09     102.000000\n",
       "max       6.779901e+09   19092.000000"
      ]
     },
     "execution_count": 91,
     "metadata": {},
     "output_type": "execute_result"
    }
   ],
   "source": [
    "df.describe()"
   ]
  },
  {
   "cell_type": "code",
   "execution_count": 92,
   "metadata": {},
   "outputs": [
    {
     "name": "stdout",
     "output_type": "stream",
     "text": [
      "Year               0\n",
      "amount_executed    0\n",
      "Municipality       0\n",
      "number_crimes      0\n",
      "dtype: int64\n",
      "Year               0\n",
      "amount_executed    0\n",
      "Municipality       0\n",
      "number_crimes      0\n",
      "dtype: int64\n"
     ]
    }
   ],
   "source": [
    "# checking if theres missing data\n",
    "print(df.isnull().sum())\n",
    "print(df.isna().sum())"
   ]
  },
  {
   "cell_type": "code",
   "execution_count": 93,
   "metadata": {},
   "outputs": [
    {
     "data": {
      "text/plain": [
       "Year               datetime64[ns]\n",
       "amount_executed           float64\n",
       "Municipality               object\n",
       "number_crimes               int64\n",
       "dtype: object"
      ]
     },
     "execution_count": 93,
     "metadata": {},
     "output_type": "execute_result"
    }
   ],
   "source": [
    "df.dtypes"
   ]
  },
  {
   "cell_type": "code",
   "execution_count": 94,
   "metadata": {},
   "outputs": [
    {
     "data": {
      "text/html": [
       "<div>\n",
       "<style scoped>\n",
       "    .dataframe tbody tr th:only-of-type {\n",
       "        vertical-align: middle;\n",
       "    }\n",
       "\n",
       "    .dataframe tbody tr th {\n",
       "        vertical-align: top;\n",
       "    }\n",
       "\n",
       "    .dataframe thead th {\n",
       "        text-align: right;\n",
       "    }\n",
       "</style>\n",
       "<table border=\"1\" class=\"dataframe\">\n",
       "  <thead>\n",
       "    <tr style=\"text-align: right;\">\n",
       "      <th></th>\n",
       "      <th>Year</th>\n",
       "      <th>amount_executed</th>\n",
       "      <th>Municipality</th>\n",
       "      <th>number_crimes</th>\n",
       "    </tr>\n",
       "  </thead>\n",
       "  <tbody>\n",
       "    <tr>\n",
       "      <th>0</th>\n",
       "      <td>2015-01-01</td>\n",
       "      <td>3.779522e+09</td>\n",
       "      <td>Aconchi</td>\n",
       "      <td>9</td>\n",
       "    </tr>\n",
       "    <tr>\n",
       "      <th>1</th>\n",
       "      <td>2015-01-01</td>\n",
       "      <td>3.779522e+09</td>\n",
       "      <td>Agua Prieta</td>\n",
       "      <td>696</td>\n",
       "    </tr>\n",
       "    <tr>\n",
       "      <th>2</th>\n",
       "      <td>2015-01-01</td>\n",
       "      <td>3.779522e+09</td>\n",
       "      <td>Álamos</td>\n",
       "      <td>183</td>\n",
       "    </tr>\n",
       "    <tr>\n",
       "      <th>3</th>\n",
       "      <td>2015-01-01</td>\n",
       "      <td>3.779522e+09</td>\n",
       "      <td>Altar</td>\n",
       "      <td>71</td>\n",
       "    </tr>\n",
       "    <tr>\n",
       "      <th>4</th>\n",
       "      <td>2015-01-01</td>\n",
       "      <td>3.779522e+09</td>\n",
       "      <td>Arivechi</td>\n",
       "      <td>7</td>\n",
       "    </tr>\n",
       "    <tr>\n",
       "      <th>...</th>\n",
       "      <td>...</td>\n",
       "      <td>...</td>\n",
       "      <td>...</td>\n",
       "      <td>...</td>\n",
       "    </tr>\n",
       "    <tr>\n",
       "      <th>506</th>\n",
       "      <td>2021-01-01</td>\n",
       "      <td>6.779901e+09</td>\n",
       "      <td>Yécora</td>\n",
       "      <td>88</td>\n",
       "    </tr>\n",
       "    <tr>\n",
       "      <th>507</th>\n",
       "      <td>2021-01-01</td>\n",
       "      <td>6.779901e+09</td>\n",
       "      <td>General Plutarco Elías Calles</td>\n",
       "      <td>120</td>\n",
       "    </tr>\n",
       "    <tr>\n",
       "      <th>508</th>\n",
       "      <td>2021-01-01</td>\n",
       "      <td>6.779901e+09</td>\n",
       "      <td>Benito Juárez</td>\n",
       "      <td>318</td>\n",
       "    </tr>\n",
       "    <tr>\n",
       "      <th>509</th>\n",
       "      <td>2021-01-01</td>\n",
       "      <td>6.779901e+09</td>\n",
       "      <td>San Ignacio Río Muerto</td>\n",
       "      <td>60</td>\n",
       "    </tr>\n",
       "    <tr>\n",
       "      <th>510</th>\n",
       "      <td>2021-01-01</td>\n",
       "      <td>6.779901e+09</td>\n",
       "      <td>No Informado</td>\n",
       "      <td>22</td>\n",
       "    </tr>\n",
       "  </tbody>\n",
       "</table>\n",
       "<p>511 rows × 4 columns</p>\n",
       "</div>"
      ],
      "text/plain": [
       "          Year  amount_executed                   Municipality  number_crimes\n",
       "0   2015-01-01     3.779522e+09                        Aconchi              9\n",
       "1   2015-01-01     3.779522e+09                    Agua Prieta            696\n",
       "2   2015-01-01     3.779522e+09                         Álamos            183\n",
       "3   2015-01-01     3.779522e+09                          Altar             71\n",
       "4   2015-01-01     3.779522e+09                       Arivechi              7\n",
       "..         ...              ...                            ...            ...\n",
       "506 2021-01-01     6.779901e+09                         Yécora             88\n",
       "507 2021-01-01     6.779901e+09  General Plutarco Elías Calles            120\n",
       "508 2021-01-01     6.779901e+09                  Benito Juárez            318\n",
       "509 2021-01-01     6.779901e+09         San Ignacio Río Muerto             60\n",
       "510 2021-01-01     6.779901e+09                   No Informado             22\n",
       "\n",
       "[511 rows x 4 columns]"
      ]
     },
     "execution_count": 94,
     "metadata": {},
     "output_type": "execute_result"
    }
   ],
   "source": [
    "df"
   ]
  },
  {
   "cell_type": "code",
   "execution_count": 95,
   "metadata": {},
   "outputs": [
    {
     "data": {
      "text/html": [
       "<div>\n",
       "<style scoped>\n",
       "    .dataframe tbody tr th:only-of-type {\n",
       "        vertical-align: middle;\n",
       "    }\n",
       "\n",
       "    .dataframe tbody tr th {\n",
       "        vertical-align: top;\n",
       "    }\n",
       "\n",
       "    .dataframe thead th {\n",
       "        text-align: right;\n",
       "    }\n",
       "</style>\n",
       "<table border=\"1\" class=\"dataframe\">\n",
       "  <thead>\n",
       "    <tr style=\"text-align: right;\">\n",
       "      <th></th>\n",
       "      <th>Year</th>\n",
       "      <th>amount_executed</th>\n",
       "      <th>Municipality</th>\n",
       "      <th>number_crimes</th>\n",
       "    </tr>\n",
       "  </thead>\n",
       "  <tbody>\n",
       "    <tr>\n",
       "      <th>53</th>\n",
       "      <td>2015-01-01</td>\n",
       "      <td>3.779522e+09</td>\n",
       "      <td>San Javier</td>\n",
       "      <td>2</td>\n",
       "    </tr>\n",
       "    <tr>\n",
       "      <th>126</th>\n",
       "      <td>2016-01-01</td>\n",
       "      <td>4.375163e+09</td>\n",
       "      <td>San Javier</td>\n",
       "      <td>5</td>\n",
       "    </tr>\n",
       "    <tr>\n",
       "      <th>199</th>\n",
       "      <td>2017-01-01</td>\n",
       "      <td>4.148071e+09</td>\n",
       "      <td>San Javier</td>\n",
       "      <td>10</td>\n",
       "    </tr>\n",
       "    <tr>\n",
       "      <th>272</th>\n",
       "      <td>2018-01-01</td>\n",
       "      <td>4.963138e+09</td>\n",
       "      <td>San Javier</td>\n",
       "      <td>3</td>\n",
       "    </tr>\n",
       "    <tr>\n",
       "      <th>345</th>\n",
       "      <td>2019-01-01</td>\n",
       "      <td>5.382599e+09</td>\n",
       "      <td>San Javier</td>\n",
       "      <td>1</td>\n",
       "    </tr>\n",
       "    <tr>\n",
       "      <th>418</th>\n",
       "      <td>2020-01-01</td>\n",
       "      <td>6.069537e+09</td>\n",
       "      <td>San Javier</td>\n",
       "      <td>2</td>\n",
       "    </tr>\n",
       "    <tr>\n",
       "      <th>491</th>\n",
       "      <td>2021-01-01</td>\n",
       "      <td>6.779901e+09</td>\n",
       "      <td>San Javier</td>\n",
       "      <td>0</td>\n",
       "    </tr>\n",
       "  </tbody>\n",
       "</table>\n",
       "</div>"
      ],
      "text/plain": [
       "          Year  amount_executed Municipality  number_crimes\n",
       "53  2015-01-01     3.779522e+09   San Javier              2\n",
       "126 2016-01-01     4.375163e+09   San Javier              5\n",
       "199 2017-01-01     4.148071e+09   San Javier             10\n",
       "272 2018-01-01     4.963138e+09   San Javier              3\n",
       "345 2019-01-01     5.382599e+09   San Javier              1\n",
       "418 2020-01-01     6.069537e+09   San Javier              2\n",
       "491 2021-01-01     6.779901e+09   San Javier              0"
      ]
     },
     "execution_count": 95,
     "metadata": {},
     "output_type": "execute_result"
    }
   ],
   "source": [
    "df_municipality = df.loc[df['Municipality'] == 'San Javier']\n",
    "df_municipality"
   ]
  },
  {
   "cell_type": "code",
   "execution_count": 96,
   "metadata": {},
   "outputs": [
    {
     "data": {
      "text/plain": [
       "array(['Aconchi', 'Moctezuma', 'San Javier', 'San Felipe de Jesús',\n",
       "       'Sahuaripa', 'Rosario', 'Rayón', 'Quiriego', 'Puerto Peñasco',\n",
       "       'Pitiquito', 'Oquitoa', 'Opodepe', 'Ónavas', 'Nogales', 'Navojoa',\n",
       "       'Nacozari de García', 'Nácori Chico', 'San Luis Río Colorado',\n",
       "       'San Miguel de Horcasitas', 'San Pedro de la Cueva', 'Ures',\n",
       "       'San Ignacio Río Muerto', 'Benito Juárez',\n",
       "       'General Plutarco Elías Calles', 'Yécora', 'Villa Pesqueira',\n",
       "       'Villa Hidalgo', 'Tubutama', 'Santa Ana', 'Trincheras', 'Tepache',\n",
       "       'Suaqui Grande', 'Soyopa', 'Sáric', 'Santa Cruz', 'Naco',\n",
       "       'Mazatán', 'Agua Prieta', 'Magdalena', 'Caborca', 'Benjamín Hill',\n",
       "       'Bavispe', 'Baviácora', 'Banámichi', 'Bácum', 'Bacoachi',\n",
       "       'Bacerac', 'Bacanora', 'Bacadéhuachi', 'Atil', 'Arizpe',\n",
       "       'Arivechi', 'Altar', 'Álamos', 'Cajeme', 'Cananea', 'Carbó',\n",
       "       'Guaymas', 'Imuris', 'Huépac', 'Huatabampo', 'Huásabas',\n",
       "       'Huachinera', 'Hermosillo', 'Granados', 'La Colorada', 'Fronteras',\n",
       "       'Etchojoa', 'Empalme', 'Divisaderos', 'Cumpas', 'Cucurpe',\n",
       "       'No Informado'], dtype=object)"
      ]
     },
     "execution_count": 96,
     "metadata": {},
     "output_type": "execute_result"
    }
   ],
   "source": [
    "df[\"Municipality\"].value_counts().reset_index().to_csv(\"cities_df.csv\")\n",
    "cities = pd.read_csv(\"./cities_df.csv\")\n",
    "cities = cities[\"index\"].to_numpy()\n",
    "cities"
   ]
  },
  {
   "cell_type": "code",
   "execution_count": 97,
   "metadata": {},
   "outputs": [
    {
     "name": "stdout",
     "output_type": "stream",
     "text": [
      "['Aconchi', 0.24046524098447053, 'Agua Prieta', 0.8208364609419048, 'Álamos', -0.1805036675256816, 'Altar', -0.060032397934929045, 'Arivechi', 0.39240321623785374, 'Arizpe', -0.18500391167364102, 'Atil', 0.17236120891747364, 'Bacadéhuachi', 0.576548145669795, 'Bacanora', 0.2665905282065113, 'Bacerac', 0.8050702189693925, 'Bacoachi', -0.0857166992345209, 'Bácum', 0.6480989091676334, 'Banámichi', 0.2536432399169811, 'Baviácora', 0.20641195021123981, 'Bavispe', 0.6746741122855375, 'Benjamín Hill', 0.6069496292884714, 'Caborca', 0.22931211260814427, 'Cajeme', 0.7897957370704182, 'Cananea', 0.2036780789694833, 'Carbó', -0.09669526602973794, 'La Colorada', -0.3396291200412127, 'Cucurpe', 0.7373395337728097, 'Cumpas', 0.5850712051303337, 'Divisaderos', 0.04323683481711743, 'Empalme', 0.5949983676716435, 'Etchojoa', 0.5049195853879158, 'Fronteras', 0.6998444208502748, 'Granados', -0.0898679875870206, 'Guaymas', 0.5887716686864964, 'Hermosillo', -0.19857343096276675, 'Huachinera', 0.4910298044768396, 'Huásabas', -0.48829618735866853, 'Huatabampo', -0.04262932432976809, 'Huépac', -0.12280600671424573, 'Imuris', 0.666437423572755, 'Magdalena', 0.6396754252142247, 'Mazatán', 0.06875995134708868, 'Moctezuma', 0.3632214986695954, 'Naco', 0.5847563958710492, 'Nácori Chico', 0.6100062639145731, 'Nacozari de García', 0.506455124216938, 'Navojoa', 0.11171335560028345, 'Nogales', 0.7653915352930744, 'Ónavas', 0.2941673561269963, 'Opodepe', 0.5555160324626726, 'Oquitoa', -0.11409702879996628, 'Pitiquito', 0.6181162220595864, 'Puerto Peñasco', 0.07663715150058761, 'Quiriego', -0.24967674738069326, 'Rayón', -0.1527168369546871, 'Rosario', -0.38495042358534093, 'Sahuaripa', 0.009412699490303083, 'San Felipe de Jesús', -0.38517987474342913, 'San Javier', -0.61130424317721, 'San Luis Río Colorado', -0.11503759682899241, 'San Miguel de Horcasitas', 0.0985565291984422, 'San Pedro de la Cueva', 0.23549800725447365, 'Santa Ana', 0.6990263077254341, 'Santa Cruz', 0.3640280886417161, 'Sáric', -0.3870160758185717, 'Soyopa', -0.30790936982875194, 'Suaqui Grande', -0.28673613894957534, 'Tepache', -0.6773523085808308, 'Trincheras', -0.37183601207344935, 'Tubutama', -0.4214280010617235, 'Ures', -0.5553780710715641, 'Villa Hidalgo', -0.1689643728576124, 'Villa Pesqueira', 0.10630202617370325, 'Yécora', 0.42675929286816083, 'General Plutarco Elías Calles', -0.09047754800861516, 'Benito Juárez', 0.4447532499544999, 'San Ignacio Río Muerto', 0.48218212899072915, 'No Informado', -0.08430988526503]\n"
     ]
    }
   ],
   "source": [
    "# correlation between amount executed and number of crimes in each city\n",
    "\n",
    "corr_list = []\n",
    "\n",
    "for municipio in df_2_municipalities:\n",
    "    municipio_df = df[df.Municipality == municipio]\n",
    "    corr = municipio_df['amount_executed'].corr(municipio_df['number_crimes'])\n",
    "    corr_list.append(municipio)\n",
    "    corr_list.append(corr)\n",
    "\n",
    "print(corr_list)\n"
   ]
  },
  {
   "cell_type": "code",
   "execution_count": null,
   "metadata": {},
   "outputs": [],
   "source": []
  },
  {
   "cell_type": "markdown",
   "metadata": {},
   "source": [
    "# EDA"
   ]
  },
  {
   "cell_type": "code",
   "execution_count": 98,
   "metadata": {},
   "outputs": [],
   "source": [
    "import plotly.express as px"
   ]
  },
  {
   "cell_type": "code",
   "execution_count": 99,
   "metadata": {},
   "outputs": [
    {
     "data": {
      "text/plain": [
       "53     3.779522e+09\n",
       "126    4.375163e+09\n",
       "199    4.148071e+09\n",
       "272    4.963138e+09\n",
       "345    5.382599e+09\n",
       "418    6.069537e+09\n",
       "491    6.779901e+09\n",
       "Name: amount_executed, dtype: float64"
      ]
     },
     "execution_count": 99,
     "metadata": {},
     "output_type": "execute_result"
    }
   ],
   "source": [
    "df_municipality.amount_executed"
   ]
  },
  {
   "cell_type": "code",
   "execution_count": 100,
   "metadata": {},
   "outputs": [
    {
     "data": {
      "application/vnd.plotly.v1+json": {
       "config": {
        "plotlyServerURL": "https://plot.ly"
       },
       "data": [
        {
         "hovertemplate": "Year=%{x}<br>amount_executed=%{y}<extra></extra>",
         "legendgroup": "",
         "line": {
          "color": "#636efa",
          "dash": "solid"
         },
         "marker": {
          "symbol": "circle"
         },
         "mode": "lines",
         "name": "",
         "orientation": "v",
         "showlegend": false,
         "type": "scatter",
         "x": [
          "2015-01-01T00:00:00",
          "2016-01-01T00:00:00",
          "2017-01-01T00:00:00",
          "2018-01-01T00:00:00",
          "2019-01-01T00:00:00",
          "2020-01-01T00:00:00",
          "2021-01-01T00:00:00"
         ],
         "xaxis": "x",
         "y": [
          3779522492.529999,
          4375163125.9,
          4148071296.140001,
          4963137875.91,
          5382598902.32,
          6069537153.050001,
          6779900503
         ],
         "yaxis": "y"
        }
       ],
       "layout": {
        "height": 400,
        "legend": {
         "tracegroupgap": 0
        },
        "template": {
         "data": {
          "bar": [
           {
            "error_x": {
             "color": "#2a3f5f"
            },
            "error_y": {
             "color": "#2a3f5f"
            },
            "marker": {
             "line": {
              "color": "#E5ECF6",
              "width": 0.5
             },
             "pattern": {
              "fillmode": "overlay",
              "size": 10,
              "solidity": 0.2
             }
            },
            "type": "bar"
           }
          ],
          "barpolar": [
           {
            "marker": {
             "line": {
              "color": "#E5ECF6",
              "width": 0.5
             },
             "pattern": {
              "fillmode": "overlay",
              "size": 10,
              "solidity": 0.2
             }
            },
            "type": "barpolar"
           }
          ],
          "carpet": [
           {
            "aaxis": {
             "endlinecolor": "#2a3f5f",
             "gridcolor": "white",
             "linecolor": "white",
             "minorgridcolor": "white",
             "startlinecolor": "#2a3f5f"
            },
            "baxis": {
             "endlinecolor": "#2a3f5f",
             "gridcolor": "white",
             "linecolor": "white",
             "minorgridcolor": "white",
             "startlinecolor": "#2a3f5f"
            },
            "type": "carpet"
           }
          ],
          "choropleth": [
           {
            "colorbar": {
             "outlinewidth": 0,
             "ticks": ""
            },
            "type": "choropleth"
           }
          ],
          "contour": [
           {
            "colorbar": {
             "outlinewidth": 0,
             "ticks": ""
            },
            "colorscale": [
             [
              0,
              "#0d0887"
             ],
             [
              0.1111111111111111,
              "#46039f"
             ],
             [
              0.2222222222222222,
              "#7201a8"
             ],
             [
              0.3333333333333333,
              "#9c179e"
             ],
             [
              0.4444444444444444,
              "#bd3786"
             ],
             [
              0.5555555555555556,
              "#d8576b"
             ],
             [
              0.6666666666666666,
              "#ed7953"
             ],
             [
              0.7777777777777778,
              "#fb9f3a"
             ],
             [
              0.8888888888888888,
              "#fdca26"
             ],
             [
              1,
              "#f0f921"
             ]
            ],
            "type": "contour"
           }
          ],
          "contourcarpet": [
           {
            "colorbar": {
             "outlinewidth": 0,
             "ticks": ""
            },
            "type": "contourcarpet"
           }
          ],
          "heatmap": [
           {
            "colorbar": {
             "outlinewidth": 0,
             "ticks": ""
            },
            "colorscale": [
             [
              0,
              "#0d0887"
             ],
             [
              0.1111111111111111,
              "#46039f"
             ],
             [
              0.2222222222222222,
              "#7201a8"
             ],
             [
              0.3333333333333333,
              "#9c179e"
             ],
             [
              0.4444444444444444,
              "#bd3786"
             ],
             [
              0.5555555555555556,
              "#d8576b"
             ],
             [
              0.6666666666666666,
              "#ed7953"
             ],
             [
              0.7777777777777778,
              "#fb9f3a"
             ],
             [
              0.8888888888888888,
              "#fdca26"
             ],
             [
              1,
              "#f0f921"
             ]
            ],
            "type": "heatmap"
           }
          ],
          "heatmapgl": [
           {
            "colorbar": {
             "outlinewidth": 0,
             "ticks": ""
            },
            "colorscale": [
             [
              0,
              "#0d0887"
             ],
             [
              0.1111111111111111,
              "#46039f"
             ],
             [
              0.2222222222222222,
              "#7201a8"
             ],
             [
              0.3333333333333333,
              "#9c179e"
             ],
             [
              0.4444444444444444,
              "#bd3786"
             ],
             [
              0.5555555555555556,
              "#d8576b"
             ],
             [
              0.6666666666666666,
              "#ed7953"
             ],
             [
              0.7777777777777778,
              "#fb9f3a"
             ],
             [
              0.8888888888888888,
              "#fdca26"
             ],
             [
              1,
              "#f0f921"
             ]
            ],
            "type": "heatmapgl"
           }
          ],
          "histogram": [
           {
            "marker": {
             "pattern": {
              "fillmode": "overlay",
              "size": 10,
              "solidity": 0.2
             }
            },
            "type": "histogram"
           }
          ],
          "histogram2d": [
           {
            "colorbar": {
             "outlinewidth": 0,
             "ticks": ""
            },
            "colorscale": [
             [
              0,
              "#0d0887"
             ],
             [
              0.1111111111111111,
              "#46039f"
             ],
             [
              0.2222222222222222,
              "#7201a8"
             ],
             [
              0.3333333333333333,
              "#9c179e"
             ],
             [
              0.4444444444444444,
              "#bd3786"
             ],
             [
              0.5555555555555556,
              "#d8576b"
             ],
             [
              0.6666666666666666,
              "#ed7953"
             ],
             [
              0.7777777777777778,
              "#fb9f3a"
             ],
             [
              0.8888888888888888,
              "#fdca26"
             ],
             [
              1,
              "#f0f921"
             ]
            ],
            "type": "histogram2d"
           }
          ],
          "histogram2dcontour": [
           {
            "colorbar": {
             "outlinewidth": 0,
             "ticks": ""
            },
            "colorscale": [
             [
              0,
              "#0d0887"
             ],
             [
              0.1111111111111111,
              "#46039f"
             ],
             [
              0.2222222222222222,
              "#7201a8"
             ],
             [
              0.3333333333333333,
              "#9c179e"
             ],
             [
              0.4444444444444444,
              "#bd3786"
             ],
             [
              0.5555555555555556,
              "#d8576b"
             ],
             [
              0.6666666666666666,
              "#ed7953"
             ],
             [
              0.7777777777777778,
              "#fb9f3a"
             ],
             [
              0.8888888888888888,
              "#fdca26"
             ],
             [
              1,
              "#f0f921"
             ]
            ],
            "type": "histogram2dcontour"
           }
          ],
          "mesh3d": [
           {
            "colorbar": {
             "outlinewidth": 0,
             "ticks": ""
            },
            "type": "mesh3d"
           }
          ],
          "parcoords": [
           {
            "line": {
             "colorbar": {
              "outlinewidth": 0,
              "ticks": ""
             }
            },
            "type": "parcoords"
           }
          ],
          "pie": [
           {
            "automargin": true,
            "type": "pie"
           }
          ],
          "scatter": [
           {
            "fillpattern": {
             "fillmode": "overlay",
             "size": 10,
             "solidity": 0.2
            },
            "type": "scatter"
           }
          ],
          "scatter3d": [
           {
            "line": {
             "colorbar": {
              "outlinewidth": 0,
              "ticks": ""
             }
            },
            "marker": {
             "colorbar": {
              "outlinewidth": 0,
              "ticks": ""
             }
            },
            "type": "scatter3d"
           }
          ],
          "scattercarpet": [
           {
            "marker": {
             "colorbar": {
              "outlinewidth": 0,
              "ticks": ""
             }
            },
            "type": "scattercarpet"
           }
          ],
          "scattergeo": [
           {
            "marker": {
             "colorbar": {
              "outlinewidth": 0,
              "ticks": ""
             }
            },
            "type": "scattergeo"
           }
          ],
          "scattergl": [
           {
            "marker": {
             "colorbar": {
              "outlinewidth": 0,
              "ticks": ""
             }
            },
            "type": "scattergl"
           }
          ],
          "scattermapbox": [
           {
            "marker": {
             "colorbar": {
              "outlinewidth": 0,
              "ticks": ""
             }
            },
            "type": "scattermapbox"
           }
          ],
          "scatterpolar": [
           {
            "marker": {
             "colorbar": {
              "outlinewidth": 0,
              "ticks": ""
             }
            },
            "type": "scatterpolar"
           }
          ],
          "scatterpolargl": [
           {
            "marker": {
             "colorbar": {
              "outlinewidth": 0,
              "ticks": ""
             }
            },
            "type": "scatterpolargl"
           }
          ],
          "scatterternary": [
           {
            "marker": {
             "colorbar": {
              "outlinewidth": 0,
              "ticks": ""
             }
            },
            "type": "scatterternary"
           }
          ],
          "surface": [
           {
            "colorbar": {
             "outlinewidth": 0,
             "ticks": ""
            },
            "colorscale": [
             [
              0,
              "#0d0887"
             ],
             [
              0.1111111111111111,
              "#46039f"
             ],
             [
              0.2222222222222222,
              "#7201a8"
             ],
             [
              0.3333333333333333,
              "#9c179e"
             ],
             [
              0.4444444444444444,
              "#bd3786"
             ],
             [
              0.5555555555555556,
              "#d8576b"
             ],
             [
              0.6666666666666666,
              "#ed7953"
             ],
             [
              0.7777777777777778,
              "#fb9f3a"
             ],
             [
              0.8888888888888888,
              "#fdca26"
             ],
             [
              1,
              "#f0f921"
             ]
            ],
            "type": "surface"
           }
          ],
          "table": [
           {
            "cells": {
             "fill": {
              "color": "#EBF0F8"
             },
             "line": {
              "color": "white"
             }
            },
            "header": {
             "fill": {
              "color": "#C8D4E3"
             },
             "line": {
              "color": "white"
             }
            },
            "type": "table"
           }
          ]
         },
         "layout": {
          "annotationdefaults": {
           "arrowcolor": "#2a3f5f",
           "arrowhead": 0,
           "arrowwidth": 1
          },
          "autotypenumbers": "strict",
          "coloraxis": {
           "colorbar": {
            "outlinewidth": 0,
            "ticks": ""
           }
          },
          "colorscale": {
           "diverging": [
            [
             0,
             "#8e0152"
            ],
            [
             0.1,
             "#c51b7d"
            ],
            [
             0.2,
             "#de77ae"
            ],
            [
             0.3,
             "#f1b6da"
            ],
            [
             0.4,
             "#fde0ef"
            ],
            [
             0.5,
             "#f7f7f7"
            ],
            [
             0.6,
             "#e6f5d0"
            ],
            [
             0.7,
             "#b8e186"
            ],
            [
             0.8,
             "#7fbc41"
            ],
            [
             0.9,
             "#4d9221"
            ],
            [
             1,
             "#276419"
            ]
           ],
           "sequential": [
            [
             0,
             "#0d0887"
            ],
            [
             0.1111111111111111,
             "#46039f"
            ],
            [
             0.2222222222222222,
             "#7201a8"
            ],
            [
             0.3333333333333333,
             "#9c179e"
            ],
            [
             0.4444444444444444,
             "#bd3786"
            ],
            [
             0.5555555555555556,
             "#d8576b"
            ],
            [
             0.6666666666666666,
             "#ed7953"
            ],
            [
             0.7777777777777778,
             "#fb9f3a"
            ],
            [
             0.8888888888888888,
             "#fdca26"
            ],
            [
             1,
             "#f0f921"
            ]
           ],
           "sequentialminus": [
            [
             0,
             "#0d0887"
            ],
            [
             0.1111111111111111,
             "#46039f"
            ],
            [
             0.2222222222222222,
             "#7201a8"
            ],
            [
             0.3333333333333333,
             "#9c179e"
            ],
            [
             0.4444444444444444,
             "#bd3786"
            ],
            [
             0.5555555555555556,
             "#d8576b"
            ],
            [
             0.6666666666666666,
             "#ed7953"
            ],
            [
             0.7777777777777778,
             "#fb9f3a"
            ],
            [
             0.8888888888888888,
             "#fdca26"
            ],
            [
             1,
             "#f0f921"
            ]
           ]
          },
          "colorway": [
           "#636efa",
           "#EF553B",
           "#00cc96",
           "#ab63fa",
           "#FFA15A",
           "#19d3f3",
           "#FF6692",
           "#B6E880",
           "#FF97FF",
           "#FECB52"
          ],
          "font": {
           "color": "#2a3f5f"
          },
          "geo": {
           "bgcolor": "white",
           "lakecolor": "white",
           "landcolor": "#E5ECF6",
           "showlakes": true,
           "showland": true,
           "subunitcolor": "white"
          },
          "hoverlabel": {
           "align": "left"
          },
          "hovermode": "closest",
          "mapbox": {
           "style": "light"
          },
          "paper_bgcolor": "white",
          "plot_bgcolor": "#E5ECF6",
          "polar": {
           "angularaxis": {
            "gridcolor": "white",
            "linecolor": "white",
            "ticks": ""
           },
           "bgcolor": "#E5ECF6",
           "radialaxis": {
            "gridcolor": "white",
            "linecolor": "white",
            "ticks": ""
           }
          },
          "scene": {
           "xaxis": {
            "backgroundcolor": "#E5ECF6",
            "gridcolor": "white",
            "gridwidth": 2,
            "linecolor": "white",
            "showbackground": true,
            "ticks": "",
            "zerolinecolor": "white"
           },
           "yaxis": {
            "backgroundcolor": "#E5ECF6",
            "gridcolor": "white",
            "gridwidth": 2,
            "linecolor": "white",
            "showbackground": true,
            "ticks": "",
            "zerolinecolor": "white"
           },
           "zaxis": {
            "backgroundcolor": "#E5ECF6",
            "gridcolor": "white",
            "gridwidth": 2,
            "linecolor": "white",
            "showbackground": true,
            "ticks": "",
            "zerolinecolor": "white"
           }
          },
          "shapedefaults": {
           "line": {
            "color": "#2a3f5f"
           }
          },
          "ternary": {
           "aaxis": {
            "gridcolor": "white",
            "linecolor": "white",
            "ticks": ""
           },
           "baxis": {
            "gridcolor": "white",
            "linecolor": "white",
            "ticks": ""
           },
           "bgcolor": "#E5ECF6",
           "caxis": {
            "gridcolor": "white",
            "linecolor": "white",
            "ticks": ""
           }
          },
          "title": {
           "x": 0.05
          },
          "xaxis": {
           "automargin": true,
           "gridcolor": "white",
           "linecolor": "white",
           "ticks": "",
           "title": {
            "standoff": 15
           },
           "zerolinecolor": "white",
           "zerolinewidth": 2
          },
          "yaxis": {
           "automargin": true,
           "gridcolor": "white",
           "linecolor": "white",
           "ticks": "",
           "title": {
            "standoff": 15
           },
           "zerolinecolor": "white",
           "zerolinewidth": 2
          }
         }
        },
        "title": {
         "text": "amount_executed over the years"
        },
        "width": 900,
        "xaxis": {
         "anchor": "y",
         "domain": [
          0,
          1
         ],
         "title": {
          "text": "Year"
         }
        },
        "yaxis": {
         "anchor": "x",
         "domain": [
          0,
          1
         ],
         "title": {
          "text": "amount_executed"
         }
        }
       }
      }
     },
     "metadata": {},
     "output_type": "display_data"
    }
   ],
   "source": [
    "# amount_executed over the years\n",
    "fig = px.line(df_municipality, x=\"Year\", y=\"amount_executed\", title='amount_executed over the years', width=900, height=400)\n",
    "fig.show()"
   ]
  },
  {
   "cell_type": "code",
   "execution_count": 101,
   "metadata": {},
   "outputs": [
    {
     "data": {
      "application/vnd.plotly.v1+json": {
       "config": {
        "plotlyServerURL": "https://plot.ly"
       },
       "data": [
        {
         "hovertemplate": "Year=%{x}<br>number_crimes=%{y}<extra></extra>",
         "legendgroup": "",
         "line": {
          "color": "#636efa",
          "dash": "solid"
         },
         "marker": {
          "symbol": "circle"
         },
         "mode": "lines",
         "name": "",
         "orientation": "v",
         "showlegend": false,
         "type": "scatter",
         "x": [
          "2015-01-01T00:00:00",
          "2016-01-01T00:00:00",
          "2017-01-01T00:00:00",
          "2018-01-01T00:00:00",
          "2019-01-01T00:00:00",
          "2020-01-01T00:00:00",
          "2021-01-01T00:00:00"
         ],
         "xaxis": "x",
         "y": [
          2,
          5,
          10,
          3,
          1,
          2,
          0
         ],
         "yaxis": "y"
        }
       ],
       "layout": {
        "height": 400,
        "legend": {
         "tracegroupgap": 0
        },
        "template": {
         "data": {
          "bar": [
           {
            "error_x": {
             "color": "#2a3f5f"
            },
            "error_y": {
             "color": "#2a3f5f"
            },
            "marker": {
             "line": {
              "color": "#E5ECF6",
              "width": 0.5
             },
             "pattern": {
              "fillmode": "overlay",
              "size": 10,
              "solidity": 0.2
             }
            },
            "type": "bar"
           }
          ],
          "barpolar": [
           {
            "marker": {
             "line": {
              "color": "#E5ECF6",
              "width": 0.5
             },
             "pattern": {
              "fillmode": "overlay",
              "size": 10,
              "solidity": 0.2
             }
            },
            "type": "barpolar"
           }
          ],
          "carpet": [
           {
            "aaxis": {
             "endlinecolor": "#2a3f5f",
             "gridcolor": "white",
             "linecolor": "white",
             "minorgridcolor": "white",
             "startlinecolor": "#2a3f5f"
            },
            "baxis": {
             "endlinecolor": "#2a3f5f",
             "gridcolor": "white",
             "linecolor": "white",
             "minorgridcolor": "white",
             "startlinecolor": "#2a3f5f"
            },
            "type": "carpet"
           }
          ],
          "choropleth": [
           {
            "colorbar": {
             "outlinewidth": 0,
             "ticks": ""
            },
            "type": "choropleth"
           }
          ],
          "contour": [
           {
            "colorbar": {
             "outlinewidth": 0,
             "ticks": ""
            },
            "colorscale": [
             [
              0,
              "#0d0887"
             ],
             [
              0.1111111111111111,
              "#46039f"
             ],
             [
              0.2222222222222222,
              "#7201a8"
             ],
             [
              0.3333333333333333,
              "#9c179e"
             ],
             [
              0.4444444444444444,
              "#bd3786"
             ],
             [
              0.5555555555555556,
              "#d8576b"
             ],
             [
              0.6666666666666666,
              "#ed7953"
             ],
             [
              0.7777777777777778,
              "#fb9f3a"
             ],
             [
              0.8888888888888888,
              "#fdca26"
             ],
             [
              1,
              "#f0f921"
             ]
            ],
            "type": "contour"
           }
          ],
          "contourcarpet": [
           {
            "colorbar": {
             "outlinewidth": 0,
             "ticks": ""
            },
            "type": "contourcarpet"
           }
          ],
          "heatmap": [
           {
            "colorbar": {
             "outlinewidth": 0,
             "ticks": ""
            },
            "colorscale": [
             [
              0,
              "#0d0887"
             ],
             [
              0.1111111111111111,
              "#46039f"
             ],
             [
              0.2222222222222222,
              "#7201a8"
             ],
             [
              0.3333333333333333,
              "#9c179e"
             ],
             [
              0.4444444444444444,
              "#bd3786"
             ],
             [
              0.5555555555555556,
              "#d8576b"
             ],
             [
              0.6666666666666666,
              "#ed7953"
             ],
             [
              0.7777777777777778,
              "#fb9f3a"
             ],
             [
              0.8888888888888888,
              "#fdca26"
             ],
             [
              1,
              "#f0f921"
             ]
            ],
            "type": "heatmap"
           }
          ],
          "heatmapgl": [
           {
            "colorbar": {
             "outlinewidth": 0,
             "ticks": ""
            },
            "colorscale": [
             [
              0,
              "#0d0887"
             ],
             [
              0.1111111111111111,
              "#46039f"
             ],
             [
              0.2222222222222222,
              "#7201a8"
             ],
             [
              0.3333333333333333,
              "#9c179e"
             ],
             [
              0.4444444444444444,
              "#bd3786"
             ],
             [
              0.5555555555555556,
              "#d8576b"
             ],
             [
              0.6666666666666666,
              "#ed7953"
             ],
             [
              0.7777777777777778,
              "#fb9f3a"
             ],
             [
              0.8888888888888888,
              "#fdca26"
             ],
             [
              1,
              "#f0f921"
             ]
            ],
            "type": "heatmapgl"
           }
          ],
          "histogram": [
           {
            "marker": {
             "pattern": {
              "fillmode": "overlay",
              "size": 10,
              "solidity": 0.2
             }
            },
            "type": "histogram"
           }
          ],
          "histogram2d": [
           {
            "colorbar": {
             "outlinewidth": 0,
             "ticks": ""
            },
            "colorscale": [
             [
              0,
              "#0d0887"
             ],
             [
              0.1111111111111111,
              "#46039f"
             ],
             [
              0.2222222222222222,
              "#7201a8"
             ],
             [
              0.3333333333333333,
              "#9c179e"
             ],
             [
              0.4444444444444444,
              "#bd3786"
             ],
             [
              0.5555555555555556,
              "#d8576b"
             ],
             [
              0.6666666666666666,
              "#ed7953"
             ],
             [
              0.7777777777777778,
              "#fb9f3a"
             ],
             [
              0.8888888888888888,
              "#fdca26"
             ],
             [
              1,
              "#f0f921"
             ]
            ],
            "type": "histogram2d"
           }
          ],
          "histogram2dcontour": [
           {
            "colorbar": {
             "outlinewidth": 0,
             "ticks": ""
            },
            "colorscale": [
             [
              0,
              "#0d0887"
             ],
             [
              0.1111111111111111,
              "#46039f"
             ],
             [
              0.2222222222222222,
              "#7201a8"
             ],
             [
              0.3333333333333333,
              "#9c179e"
             ],
             [
              0.4444444444444444,
              "#bd3786"
             ],
             [
              0.5555555555555556,
              "#d8576b"
             ],
             [
              0.6666666666666666,
              "#ed7953"
             ],
             [
              0.7777777777777778,
              "#fb9f3a"
             ],
             [
              0.8888888888888888,
              "#fdca26"
             ],
             [
              1,
              "#f0f921"
             ]
            ],
            "type": "histogram2dcontour"
           }
          ],
          "mesh3d": [
           {
            "colorbar": {
             "outlinewidth": 0,
             "ticks": ""
            },
            "type": "mesh3d"
           }
          ],
          "parcoords": [
           {
            "line": {
             "colorbar": {
              "outlinewidth": 0,
              "ticks": ""
             }
            },
            "type": "parcoords"
           }
          ],
          "pie": [
           {
            "automargin": true,
            "type": "pie"
           }
          ],
          "scatter": [
           {
            "fillpattern": {
             "fillmode": "overlay",
             "size": 10,
             "solidity": 0.2
            },
            "type": "scatter"
           }
          ],
          "scatter3d": [
           {
            "line": {
             "colorbar": {
              "outlinewidth": 0,
              "ticks": ""
             }
            },
            "marker": {
             "colorbar": {
              "outlinewidth": 0,
              "ticks": ""
             }
            },
            "type": "scatter3d"
           }
          ],
          "scattercarpet": [
           {
            "marker": {
             "colorbar": {
              "outlinewidth": 0,
              "ticks": ""
             }
            },
            "type": "scattercarpet"
           }
          ],
          "scattergeo": [
           {
            "marker": {
             "colorbar": {
              "outlinewidth": 0,
              "ticks": ""
             }
            },
            "type": "scattergeo"
           }
          ],
          "scattergl": [
           {
            "marker": {
             "colorbar": {
              "outlinewidth": 0,
              "ticks": ""
             }
            },
            "type": "scattergl"
           }
          ],
          "scattermapbox": [
           {
            "marker": {
             "colorbar": {
              "outlinewidth": 0,
              "ticks": ""
             }
            },
            "type": "scattermapbox"
           }
          ],
          "scatterpolar": [
           {
            "marker": {
             "colorbar": {
              "outlinewidth": 0,
              "ticks": ""
             }
            },
            "type": "scatterpolar"
           }
          ],
          "scatterpolargl": [
           {
            "marker": {
             "colorbar": {
              "outlinewidth": 0,
              "ticks": ""
             }
            },
            "type": "scatterpolargl"
           }
          ],
          "scatterternary": [
           {
            "marker": {
             "colorbar": {
              "outlinewidth": 0,
              "ticks": ""
             }
            },
            "type": "scatterternary"
           }
          ],
          "surface": [
           {
            "colorbar": {
             "outlinewidth": 0,
             "ticks": ""
            },
            "colorscale": [
             [
              0,
              "#0d0887"
             ],
             [
              0.1111111111111111,
              "#46039f"
             ],
             [
              0.2222222222222222,
              "#7201a8"
             ],
             [
              0.3333333333333333,
              "#9c179e"
             ],
             [
              0.4444444444444444,
              "#bd3786"
             ],
             [
              0.5555555555555556,
              "#d8576b"
             ],
             [
              0.6666666666666666,
              "#ed7953"
             ],
             [
              0.7777777777777778,
              "#fb9f3a"
             ],
             [
              0.8888888888888888,
              "#fdca26"
             ],
             [
              1,
              "#f0f921"
             ]
            ],
            "type": "surface"
           }
          ],
          "table": [
           {
            "cells": {
             "fill": {
              "color": "#EBF0F8"
             },
             "line": {
              "color": "white"
             }
            },
            "header": {
             "fill": {
              "color": "#C8D4E3"
             },
             "line": {
              "color": "white"
             }
            },
            "type": "table"
           }
          ]
         },
         "layout": {
          "annotationdefaults": {
           "arrowcolor": "#2a3f5f",
           "arrowhead": 0,
           "arrowwidth": 1
          },
          "autotypenumbers": "strict",
          "coloraxis": {
           "colorbar": {
            "outlinewidth": 0,
            "ticks": ""
           }
          },
          "colorscale": {
           "diverging": [
            [
             0,
             "#8e0152"
            ],
            [
             0.1,
             "#c51b7d"
            ],
            [
             0.2,
             "#de77ae"
            ],
            [
             0.3,
             "#f1b6da"
            ],
            [
             0.4,
             "#fde0ef"
            ],
            [
             0.5,
             "#f7f7f7"
            ],
            [
             0.6,
             "#e6f5d0"
            ],
            [
             0.7,
             "#b8e186"
            ],
            [
             0.8,
             "#7fbc41"
            ],
            [
             0.9,
             "#4d9221"
            ],
            [
             1,
             "#276419"
            ]
           ],
           "sequential": [
            [
             0,
             "#0d0887"
            ],
            [
             0.1111111111111111,
             "#46039f"
            ],
            [
             0.2222222222222222,
             "#7201a8"
            ],
            [
             0.3333333333333333,
             "#9c179e"
            ],
            [
             0.4444444444444444,
             "#bd3786"
            ],
            [
             0.5555555555555556,
             "#d8576b"
            ],
            [
             0.6666666666666666,
             "#ed7953"
            ],
            [
             0.7777777777777778,
             "#fb9f3a"
            ],
            [
             0.8888888888888888,
             "#fdca26"
            ],
            [
             1,
             "#f0f921"
            ]
           ],
           "sequentialminus": [
            [
             0,
             "#0d0887"
            ],
            [
             0.1111111111111111,
             "#46039f"
            ],
            [
             0.2222222222222222,
             "#7201a8"
            ],
            [
             0.3333333333333333,
             "#9c179e"
            ],
            [
             0.4444444444444444,
             "#bd3786"
            ],
            [
             0.5555555555555556,
             "#d8576b"
            ],
            [
             0.6666666666666666,
             "#ed7953"
            ],
            [
             0.7777777777777778,
             "#fb9f3a"
            ],
            [
             0.8888888888888888,
             "#fdca26"
            ],
            [
             1,
             "#f0f921"
            ]
           ]
          },
          "colorway": [
           "#636efa",
           "#EF553B",
           "#00cc96",
           "#ab63fa",
           "#FFA15A",
           "#19d3f3",
           "#FF6692",
           "#B6E880",
           "#FF97FF",
           "#FECB52"
          ],
          "font": {
           "color": "#2a3f5f"
          },
          "geo": {
           "bgcolor": "white",
           "lakecolor": "white",
           "landcolor": "#E5ECF6",
           "showlakes": true,
           "showland": true,
           "subunitcolor": "white"
          },
          "hoverlabel": {
           "align": "left"
          },
          "hovermode": "closest",
          "mapbox": {
           "style": "light"
          },
          "paper_bgcolor": "white",
          "plot_bgcolor": "#E5ECF6",
          "polar": {
           "angularaxis": {
            "gridcolor": "white",
            "linecolor": "white",
            "ticks": ""
           },
           "bgcolor": "#E5ECF6",
           "radialaxis": {
            "gridcolor": "white",
            "linecolor": "white",
            "ticks": ""
           }
          },
          "scene": {
           "xaxis": {
            "backgroundcolor": "#E5ECF6",
            "gridcolor": "white",
            "gridwidth": 2,
            "linecolor": "white",
            "showbackground": true,
            "ticks": "",
            "zerolinecolor": "white"
           },
           "yaxis": {
            "backgroundcolor": "#E5ECF6",
            "gridcolor": "white",
            "gridwidth": 2,
            "linecolor": "white",
            "showbackground": true,
            "ticks": "",
            "zerolinecolor": "white"
           },
           "zaxis": {
            "backgroundcolor": "#E5ECF6",
            "gridcolor": "white",
            "gridwidth": 2,
            "linecolor": "white",
            "showbackground": true,
            "ticks": "",
            "zerolinecolor": "white"
           }
          },
          "shapedefaults": {
           "line": {
            "color": "#2a3f5f"
           }
          },
          "ternary": {
           "aaxis": {
            "gridcolor": "white",
            "linecolor": "white",
            "ticks": ""
           },
           "baxis": {
            "gridcolor": "white",
            "linecolor": "white",
            "ticks": ""
           },
           "bgcolor": "#E5ECF6",
           "caxis": {
            "gridcolor": "white",
            "linecolor": "white",
            "ticks": ""
           }
          },
          "title": {
           "x": 0.05
          },
          "xaxis": {
           "automargin": true,
           "gridcolor": "white",
           "linecolor": "white",
           "ticks": "",
           "title": {
            "standoff": 15
           },
           "zerolinecolor": "white",
           "zerolinewidth": 2
          },
          "yaxis": {
           "automargin": true,
           "gridcolor": "white",
           "linecolor": "white",
           "ticks": "",
           "title": {
            "standoff": 15
           },
           "zerolinecolor": "white",
           "zerolinewidth": 2
          }
         }
        },
        "title": {
         "text": "number of crimes over the years"
        },
        "width": 900,
        "xaxis": {
         "anchor": "y",
         "domain": [
          0,
          1
         ],
         "title": {
          "text": "Year"
         }
        },
        "yaxis": {
         "anchor": "x",
         "domain": [
          0,
          1
         ],
         "title": {
          "text": "number_crimes"
         }
        }
       }
      }
     },
     "metadata": {},
     "output_type": "display_data"
    }
   ],
   "source": [
    "fig = px.line(df_municipality, x='Year', y='number_crimes', title='number of crimes over the years', width=900, height=400)\n",
    "fig.show()"
   ]
  },
  {
   "cell_type": "code",
   "execution_count": 102,
   "metadata": {},
   "outputs": [
    {
     "data": {
      "application/vnd.plotly.v1+json": {
       "config": {
        "plotlyServerURL": "https://plot.ly"
       },
       "data": [
        {
         "hovertemplate": "amount_executed=%{x}<br>number_crimes=%{y}<extra></extra>",
         "legendgroup": "",
         "line": {
          "color": "#636efa",
          "dash": "solid"
         },
         "marker": {
          "symbol": "circle"
         },
         "mode": "lines",
         "name": "",
         "orientation": "v",
         "showlegend": false,
         "type": "scatter",
         "x": [
          3779522492.529999,
          4375163125.9,
          4148071296.140001,
          4963137875.91,
          5382598902.32,
          6069537153.050001,
          6779900503
         ],
         "xaxis": "x",
         "y": [
          2,
          5,
          10,
          3,
          1,
          2,
          0
         ],
         "yaxis": "y"
        }
       ],
       "layout": {
        "height": 400,
        "legend": {
         "tracegroupgap": 0
        },
        "template": {
         "data": {
          "bar": [
           {
            "error_x": {
             "color": "#2a3f5f"
            },
            "error_y": {
             "color": "#2a3f5f"
            },
            "marker": {
             "line": {
              "color": "#E5ECF6",
              "width": 0.5
             },
             "pattern": {
              "fillmode": "overlay",
              "size": 10,
              "solidity": 0.2
             }
            },
            "type": "bar"
           }
          ],
          "barpolar": [
           {
            "marker": {
             "line": {
              "color": "#E5ECF6",
              "width": 0.5
             },
             "pattern": {
              "fillmode": "overlay",
              "size": 10,
              "solidity": 0.2
             }
            },
            "type": "barpolar"
           }
          ],
          "carpet": [
           {
            "aaxis": {
             "endlinecolor": "#2a3f5f",
             "gridcolor": "white",
             "linecolor": "white",
             "minorgridcolor": "white",
             "startlinecolor": "#2a3f5f"
            },
            "baxis": {
             "endlinecolor": "#2a3f5f",
             "gridcolor": "white",
             "linecolor": "white",
             "minorgridcolor": "white",
             "startlinecolor": "#2a3f5f"
            },
            "type": "carpet"
           }
          ],
          "choropleth": [
           {
            "colorbar": {
             "outlinewidth": 0,
             "ticks": ""
            },
            "type": "choropleth"
           }
          ],
          "contour": [
           {
            "colorbar": {
             "outlinewidth": 0,
             "ticks": ""
            },
            "colorscale": [
             [
              0,
              "#0d0887"
             ],
             [
              0.1111111111111111,
              "#46039f"
             ],
             [
              0.2222222222222222,
              "#7201a8"
             ],
             [
              0.3333333333333333,
              "#9c179e"
             ],
             [
              0.4444444444444444,
              "#bd3786"
             ],
             [
              0.5555555555555556,
              "#d8576b"
             ],
             [
              0.6666666666666666,
              "#ed7953"
             ],
             [
              0.7777777777777778,
              "#fb9f3a"
             ],
             [
              0.8888888888888888,
              "#fdca26"
             ],
             [
              1,
              "#f0f921"
             ]
            ],
            "type": "contour"
           }
          ],
          "contourcarpet": [
           {
            "colorbar": {
             "outlinewidth": 0,
             "ticks": ""
            },
            "type": "contourcarpet"
           }
          ],
          "heatmap": [
           {
            "colorbar": {
             "outlinewidth": 0,
             "ticks": ""
            },
            "colorscale": [
             [
              0,
              "#0d0887"
             ],
             [
              0.1111111111111111,
              "#46039f"
             ],
             [
              0.2222222222222222,
              "#7201a8"
             ],
             [
              0.3333333333333333,
              "#9c179e"
             ],
             [
              0.4444444444444444,
              "#bd3786"
             ],
             [
              0.5555555555555556,
              "#d8576b"
             ],
             [
              0.6666666666666666,
              "#ed7953"
             ],
             [
              0.7777777777777778,
              "#fb9f3a"
             ],
             [
              0.8888888888888888,
              "#fdca26"
             ],
             [
              1,
              "#f0f921"
             ]
            ],
            "type": "heatmap"
           }
          ],
          "heatmapgl": [
           {
            "colorbar": {
             "outlinewidth": 0,
             "ticks": ""
            },
            "colorscale": [
             [
              0,
              "#0d0887"
             ],
             [
              0.1111111111111111,
              "#46039f"
             ],
             [
              0.2222222222222222,
              "#7201a8"
             ],
             [
              0.3333333333333333,
              "#9c179e"
             ],
             [
              0.4444444444444444,
              "#bd3786"
             ],
             [
              0.5555555555555556,
              "#d8576b"
             ],
             [
              0.6666666666666666,
              "#ed7953"
             ],
             [
              0.7777777777777778,
              "#fb9f3a"
             ],
             [
              0.8888888888888888,
              "#fdca26"
             ],
             [
              1,
              "#f0f921"
             ]
            ],
            "type": "heatmapgl"
           }
          ],
          "histogram": [
           {
            "marker": {
             "pattern": {
              "fillmode": "overlay",
              "size": 10,
              "solidity": 0.2
             }
            },
            "type": "histogram"
           }
          ],
          "histogram2d": [
           {
            "colorbar": {
             "outlinewidth": 0,
             "ticks": ""
            },
            "colorscale": [
             [
              0,
              "#0d0887"
             ],
             [
              0.1111111111111111,
              "#46039f"
             ],
             [
              0.2222222222222222,
              "#7201a8"
             ],
             [
              0.3333333333333333,
              "#9c179e"
             ],
             [
              0.4444444444444444,
              "#bd3786"
             ],
             [
              0.5555555555555556,
              "#d8576b"
             ],
             [
              0.6666666666666666,
              "#ed7953"
             ],
             [
              0.7777777777777778,
              "#fb9f3a"
             ],
             [
              0.8888888888888888,
              "#fdca26"
             ],
             [
              1,
              "#f0f921"
             ]
            ],
            "type": "histogram2d"
           }
          ],
          "histogram2dcontour": [
           {
            "colorbar": {
             "outlinewidth": 0,
             "ticks": ""
            },
            "colorscale": [
             [
              0,
              "#0d0887"
             ],
             [
              0.1111111111111111,
              "#46039f"
             ],
             [
              0.2222222222222222,
              "#7201a8"
             ],
             [
              0.3333333333333333,
              "#9c179e"
             ],
             [
              0.4444444444444444,
              "#bd3786"
             ],
             [
              0.5555555555555556,
              "#d8576b"
             ],
             [
              0.6666666666666666,
              "#ed7953"
             ],
             [
              0.7777777777777778,
              "#fb9f3a"
             ],
             [
              0.8888888888888888,
              "#fdca26"
             ],
             [
              1,
              "#f0f921"
             ]
            ],
            "type": "histogram2dcontour"
           }
          ],
          "mesh3d": [
           {
            "colorbar": {
             "outlinewidth": 0,
             "ticks": ""
            },
            "type": "mesh3d"
           }
          ],
          "parcoords": [
           {
            "line": {
             "colorbar": {
              "outlinewidth": 0,
              "ticks": ""
             }
            },
            "type": "parcoords"
           }
          ],
          "pie": [
           {
            "automargin": true,
            "type": "pie"
           }
          ],
          "scatter": [
           {
            "fillpattern": {
             "fillmode": "overlay",
             "size": 10,
             "solidity": 0.2
            },
            "type": "scatter"
           }
          ],
          "scatter3d": [
           {
            "line": {
             "colorbar": {
              "outlinewidth": 0,
              "ticks": ""
             }
            },
            "marker": {
             "colorbar": {
              "outlinewidth": 0,
              "ticks": ""
             }
            },
            "type": "scatter3d"
           }
          ],
          "scattercarpet": [
           {
            "marker": {
             "colorbar": {
              "outlinewidth": 0,
              "ticks": ""
             }
            },
            "type": "scattercarpet"
           }
          ],
          "scattergeo": [
           {
            "marker": {
             "colorbar": {
              "outlinewidth": 0,
              "ticks": ""
             }
            },
            "type": "scattergeo"
           }
          ],
          "scattergl": [
           {
            "marker": {
             "colorbar": {
              "outlinewidth": 0,
              "ticks": ""
             }
            },
            "type": "scattergl"
           }
          ],
          "scattermapbox": [
           {
            "marker": {
             "colorbar": {
              "outlinewidth": 0,
              "ticks": ""
             }
            },
            "type": "scattermapbox"
           }
          ],
          "scatterpolar": [
           {
            "marker": {
             "colorbar": {
              "outlinewidth": 0,
              "ticks": ""
             }
            },
            "type": "scatterpolar"
           }
          ],
          "scatterpolargl": [
           {
            "marker": {
             "colorbar": {
              "outlinewidth": 0,
              "ticks": ""
             }
            },
            "type": "scatterpolargl"
           }
          ],
          "scatterternary": [
           {
            "marker": {
             "colorbar": {
              "outlinewidth": 0,
              "ticks": ""
             }
            },
            "type": "scatterternary"
           }
          ],
          "surface": [
           {
            "colorbar": {
             "outlinewidth": 0,
             "ticks": ""
            },
            "colorscale": [
             [
              0,
              "#0d0887"
             ],
             [
              0.1111111111111111,
              "#46039f"
             ],
             [
              0.2222222222222222,
              "#7201a8"
             ],
             [
              0.3333333333333333,
              "#9c179e"
             ],
             [
              0.4444444444444444,
              "#bd3786"
             ],
             [
              0.5555555555555556,
              "#d8576b"
             ],
             [
              0.6666666666666666,
              "#ed7953"
             ],
             [
              0.7777777777777778,
              "#fb9f3a"
             ],
             [
              0.8888888888888888,
              "#fdca26"
             ],
             [
              1,
              "#f0f921"
             ]
            ],
            "type": "surface"
           }
          ],
          "table": [
           {
            "cells": {
             "fill": {
              "color": "#EBF0F8"
             },
             "line": {
              "color": "white"
             }
            },
            "header": {
             "fill": {
              "color": "#C8D4E3"
             },
             "line": {
              "color": "white"
             }
            },
            "type": "table"
           }
          ]
         },
         "layout": {
          "annotationdefaults": {
           "arrowcolor": "#2a3f5f",
           "arrowhead": 0,
           "arrowwidth": 1
          },
          "autotypenumbers": "strict",
          "coloraxis": {
           "colorbar": {
            "outlinewidth": 0,
            "ticks": ""
           }
          },
          "colorscale": {
           "diverging": [
            [
             0,
             "#8e0152"
            ],
            [
             0.1,
             "#c51b7d"
            ],
            [
             0.2,
             "#de77ae"
            ],
            [
             0.3,
             "#f1b6da"
            ],
            [
             0.4,
             "#fde0ef"
            ],
            [
             0.5,
             "#f7f7f7"
            ],
            [
             0.6,
             "#e6f5d0"
            ],
            [
             0.7,
             "#b8e186"
            ],
            [
             0.8,
             "#7fbc41"
            ],
            [
             0.9,
             "#4d9221"
            ],
            [
             1,
             "#276419"
            ]
           ],
           "sequential": [
            [
             0,
             "#0d0887"
            ],
            [
             0.1111111111111111,
             "#46039f"
            ],
            [
             0.2222222222222222,
             "#7201a8"
            ],
            [
             0.3333333333333333,
             "#9c179e"
            ],
            [
             0.4444444444444444,
             "#bd3786"
            ],
            [
             0.5555555555555556,
             "#d8576b"
            ],
            [
             0.6666666666666666,
             "#ed7953"
            ],
            [
             0.7777777777777778,
             "#fb9f3a"
            ],
            [
             0.8888888888888888,
             "#fdca26"
            ],
            [
             1,
             "#f0f921"
            ]
           ],
           "sequentialminus": [
            [
             0,
             "#0d0887"
            ],
            [
             0.1111111111111111,
             "#46039f"
            ],
            [
             0.2222222222222222,
             "#7201a8"
            ],
            [
             0.3333333333333333,
             "#9c179e"
            ],
            [
             0.4444444444444444,
             "#bd3786"
            ],
            [
             0.5555555555555556,
             "#d8576b"
            ],
            [
             0.6666666666666666,
             "#ed7953"
            ],
            [
             0.7777777777777778,
             "#fb9f3a"
            ],
            [
             0.8888888888888888,
             "#fdca26"
            ],
            [
             1,
             "#f0f921"
            ]
           ]
          },
          "colorway": [
           "#636efa",
           "#EF553B",
           "#00cc96",
           "#ab63fa",
           "#FFA15A",
           "#19d3f3",
           "#FF6692",
           "#B6E880",
           "#FF97FF",
           "#FECB52"
          ],
          "font": {
           "color": "#2a3f5f"
          },
          "geo": {
           "bgcolor": "white",
           "lakecolor": "white",
           "landcolor": "#E5ECF6",
           "showlakes": true,
           "showland": true,
           "subunitcolor": "white"
          },
          "hoverlabel": {
           "align": "left"
          },
          "hovermode": "closest",
          "mapbox": {
           "style": "light"
          },
          "paper_bgcolor": "white",
          "plot_bgcolor": "#E5ECF6",
          "polar": {
           "angularaxis": {
            "gridcolor": "white",
            "linecolor": "white",
            "ticks": ""
           },
           "bgcolor": "#E5ECF6",
           "radialaxis": {
            "gridcolor": "white",
            "linecolor": "white",
            "ticks": ""
           }
          },
          "scene": {
           "xaxis": {
            "backgroundcolor": "#E5ECF6",
            "gridcolor": "white",
            "gridwidth": 2,
            "linecolor": "white",
            "showbackground": true,
            "ticks": "",
            "zerolinecolor": "white"
           },
           "yaxis": {
            "backgroundcolor": "#E5ECF6",
            "gridcolor": "white",
            "gridwidth": 2,
            "linecolor": "white",
            "showbackground": true,
            "ticks": "",
            "zerolinecolor": "white"
           },
           "zaxis": {
            "backgroundcolor": "#E5ECF6",
            "gridcolor": "white",
            "gridwidth": 2,
            "linecolor": "white",
            "showbackground": true,
            "ticks": "",
            "zerolinecolor": "white"
           }
          },
          "shapedefaults": {
           "line": {
            "color": "#2a3f5f"
           }
          },
          "ternary": {
           "aaxis": {
            "gridcolor": "white",
            "linecolor": "white",
            "ticks": ""
           },
           "baxis": {
            "gridcolor": "white",
            "linecolor": "white",
            "ticks": ""
           },
           "bgcolor": "#E5ECF6",
           "caxis": {
            "gridcolor": "white",
            "linecolor": "white",
            "ticks": ""
           }
          },
          "title": {
           "x": 0.05
          },
          "xaxis": {
           "automargin": true,
           "gridcolor": "white",
           "linecolor": "white",
           "ticks": "",
           "title": {
            "standoff": 15
           },
           "zerolinecolor": "white",
           "zerolinewidth": 2
          },
          "yaxis": {
           "automargin": true,
           "gridcolor": "white",
           "linecolor": "white",
           "ticks": "",
           "title": {
            "standoff": 15
           },
           "zerolinecolor": "white",
           "zerolinewidth": 2
          }
         }
        },
        "title": {
         "text": "number of crimes as more amount of money was executed"
        },
        "width": 900,
        "xaxis": {
         "anchor": "y",
         "domain": [
          0,
          1
         ],
         "title": {
          "text": "amount_executed"
         }
        },
        "yaxis": {
         "anchor": "x",
         "domain": [
          0,
          1
         ],
         "title": {
          "text": "number_crimes"
         }
        }
       }
      }
     },
     "metadata": {},
     "output_type": "display_data"
    }
   ],
   "source": [
    "fig = px.line(df_municipality, x='amount_executed', y='number_crimes', title='number of crimes as more amount of money was executed', width=900, height=400)\n",
    "fig.show()"
   ]
  },
  {
   "cell_type": "code",
   "execution_count": 103,
   "metadata": {},
   "outputs": [
    {
     "data": {
      "application/vnd.plotly.v1+json": {
       "config": {
        "plotlyServerURL": "https://plot.ly"
       },
       "data": [
        {
         "dimensions": [
          {
           "axis": {
            "matches": true
           },
           "label": "number_crimes",
           "values": [
            9,
            696,
            183,
            71,
            7,
            11,
            1,
            5,
            6,
            2,
            6,
            110,
            2,
            20,
            5,
            29,
            1189,
            4968,
            455,
            14,
            10,
            11,
            27,
            3,
            354,
            376,
            28,
            0,
            963,
            10955,
            5,
            7,
            418,
            4,
            51,
            209,
            5,
            21,
            42,
            2,
            100,
            1178,
            1690,
            3,
            3,
            1,
            43,
            563,
            16,
            9,
            49,
            45,
            2,
            2,
            2832,
            11,
            3,
            96,
            0,
            20,
            5,
            2,
            4,
            16,
            12,
            151,
            4,
            2,
            55,
            120,
            292,
            39,
            11,
            56,
            677,
            180,
            90,
            12,
            31,
            1,
            5,
            8,
            2,
            4,
            142,
            26,
            30,
            1,
            78,
            1619,
            4921,
            393,
            34,
            22,
            9,
            56,
            2,
            455,
            449,
            59,
            4,
            1094,
            19092,
            2,
            8,
            915,
            9,
            103,
            342,
            18,
            15,
            26,
            7,
            128,
            1626,
            1810,
            3,
            19,
            4,
            69,
            839,
            16,
            14,
            30,
            125,
            6,
            5,
            2744,
            54,
            5,
            143,
            3,
            15,
            17,
            6,
            7,
            24,
            13,
            165,
            12,
            14,
            63,
            126,
            257,
            33,
            30,
            20,
            361,
            67,
            25,
            1,
            17,
            2,
            1,
            4,
            0,
            7,
            126,
            4,
            11,
            3,
            43,
            613,
            4357,
            83,
            28,
            13,
            12,
            13,
            3,
            272,
            226,
            20,
            2,
            613,
            12579,
            3,
            2,
            527,
            2,
            83,
            284,
            10,
            23,
            12,
            1,
            25,
            1976,
            1240,
            3,
            9,
            0,
            28,
            242,
            57,
            3,
            86,
            38,
            5,
            10,
            1181,
            42,
            2,
            108,
            2,
            6,
            12,
            3,
            2,
            10,
            4,
            64,
            7,
            8,
            41,
            80,
            127,
            56,
            19,
            13,
            307,
            96,
            3,
            2,
            3,
            0,
            0,
            3,
            0,
            6,
            83,
            5,
            7,
            0,
            42,
            507,
            3774,
            28,
            18,
            14,
            7,
            20,
            1,
            263,
            170,
            18,
            2,
            482,
            7255,
            1,
            1,
            431,
            0,
            52,
            183,
            10,
            6,
            3,
            1,
            23,
            1408,
            1438,
            5,
            4,
            1,
            22,
            170,
            5,
            5,
            15,
            22,
            0,
            3,
            890,
            23,
            2,
            74,
            1,
            0,
            6,
            3,
            4,
            4,
            2,
            28,
            1,
            4,
            32,
            47,
            80,
            44,
            14,
            17,
            732,
            125,
            15,
            2,
            1,
            0,
            1,
            1,
            0,
            6,
            102,
            2,
            10,
            5,
            30,
            848,
            5797,
            198,
            30,
            12,
            10,
            9,
            2,
            412,
            240,
            33,
            2,
            628,
            8550,
            2,
            1,
            394,
            1,
            59,
            199,
            8,
            4,
            32,
            8,
            9,
            799,
            1819,
            8,
            9,
            0,
            30,
            601,
            8,
            12,
            22,
            25,
            0,
            1,
            1066,
            30,
            3,
            104,
            7,
            2,
            7,
            3,
            0,
            13,
            0,
            50,
            0,
            10,
            23,
            42,
            139,
            57,
            11,
            8,
            1334,
            91,
            39,
            6,
            2,
            0,
            4,
            2,
            8,
            5,
            162,
            6,
            12,
            5,
            63,
            1142,
            6180,
            340,
            18,
            10,
            15,
            54,
            1,
            339,
            562,
            89,
            0,
            1027,
            11615,
            4,
            2,
            462,
            2,
            103,
            305,
            5,
            29,
            42,
            1,
            102,
            1294,
            1853,
            1,
            16,
            3,
            68,
            590,
            9,
            3,
            17,
            37,
            0,
            2,
            1712,
            31,
            9,
            133,
            2,
            4,
            9,
            3,
            1,
            9,
            8,
            46,
            10,
            3,
            59,
            83,
            828,
            42,
            9,
            52,
            1634,
            147,
            71,
            15,
            21,
            3,
            15,
            13,
            15,
            6,
            196,
            20,
            33,
            12,
            96,
            1464,
            7062,
            452,
            22,
            11,
            26,
            74,
            4,
            629,
            526,
            74,
            2,
            1855,
            12111,
            8,
            3,
            629,
            5,
            146,
            585,
            14,
            32,
            64,
            16,
            234,
            1991,
            2685,
            6,
            18,
            0,
            97,
            521,
            26,
            8,
            46,
            82,
            3,
            0,
            2398,
            36,
            2,
            259,
            3,
            11,
            6,
            2,
            0,
            11,
            4,
            68,
            3,
            10,
            88,
            120,
            318,
            60,
            22
           ]
          },
          {
           "axis": {
            "matches": true
           },
           "label": "amount_executed",
           "values": [
            3779522492.529999,
            3779522492.529999,
            3779522492.529999,
            3779522492.529999,
            3779522492.529999,
            3779522492.529999,
            3779522492.529999,
            3779522492.529999,
            3779522492.529999,
            3779522492.529999,
            3779522492.529999,
            3779522492.529999,
            3779522492.529999,
            3779522492.529999,
            3779522492.529999,
            3779522492.529999,
            3779522492.529999,
            3779522492.529999,
            3779522492.529999,
            3779522492.529999,
            3779522492.529999,
            3779522492.529999,
            3779522492.529999,
            3779522492.529999,
            3779522492.529999,
            3779522492.529999,
            3779522492.529999,
            3779522492.529999,
            3779522492.529999,
            3779522492.529999,
            3779522492.529999,
            3779522492.529999,
            3779522492.529999,
            3779522492.529999,
            3779522492.529999,
            3779522492.529999,
            3779522492.529999,
            3779522492.529999,
            3779522492.529999,
            3779522492.529999,
            3779522492.529999,
            3779522492.529999,
            3779522492.529999,
            3779522492.529999,
            3779522492.529999,
            3779522492.529999,
            3779522492.529999,
            3779522492.529999,
            3779522492.529999,
            3779522492.529999,
            3779522492.529999,
            3779522492.529999,
            3779522492.529999,
            3779522492.529999,
            3779522492.529999,
            3779522492.529999,
            3779522492.529999,
            3779522492.529999,
            3779522492.529999,
            3779522492.529999,
            3779522492.529999,
            3779522492.529999,
            3779522492.529999,
            3779522492.529999,
            3779522492.529999,
            3779522492.529999,
            3779522492.529999,
            3779522492.529999,
            3779522492.529999,
            3779522492.529999,
            3779522492.529999,
            3779522492.529999,
            3779522492.529999,
            4375163125.9,
            4375163125.9,
            4375163125.9,
            4375163125.9,
            4375163125.9,
            4375163125.9,
            4375163125.9,
            4375163125.9,
            4375163125.9,
            4375163125.9,
            4375163125.9,
            4375163125.9,
            4375163125.9,
            4375163125.9,
            4375163125.9,
            4375163125.9,
            4375163125.9,
            4375163125.9,
            4375163125.9,
            4375163125.9,
            4375163125.9,
            4375163125.9,
            4375163125.9,
            4375163125.9,
            4375163125.9,
            4375163125.9,
            4375163125.9,
            4375163125.9,
            4375163125.9,
            4375163125.9,
            4375163125.9,
            4375163125.9,
            4375163125.9,
            4375163125.9,
            4375163125.9,
            4375163125.9,
            4375163125.9,
            4375163125.9,
            4375163125.9,
            4375163125.9,
            4375163125.9,
            4375163125.9,
            4375163125.9,
            4375163125.9,
            4375163125.9,
            4375163125.9,
            4375163125.9,
            4375163125.9,
            4375163125.9,
            4375163125.9,
            4375163125.9,
            4375163125.9,
            4375163125.9,
            4375163125.9,
            4375163125.9,
            4375163125.9,
            4375163125.9,
            4375163125.9,
            4375163125.9,
            4375163125.9,
            4375163125.9,
            4375163125.9,
            4375163125.9,
            4375163125.9,
            4375163125.9,
            4375163125.9,
            4375163125.9,
            4375163125.9,
            4375163125.9,
            4375163125.9,
            4375163125.9,
            4375163125.9,
            4375163125.9,
            4148071296.140001,
            4148071296.140001,
            4148071296.140001,
            4148071296.140001,
            4148071296.140001,
            4148071296.140001,
            4148071296.140001,
            4148071296.140001,
            4148071296.140001,
            4148071296.140001,
            4148071296.140001,
            4148071296.140001,
            4148071296.140001,
            4148071296.140001,
            4148071296.140001,
            4148071296.140001,
            4148071296.140001,
            4148071296.140001,
            4148071296.140001,
            4148071296.140001,
            4148071296.140001,
            4148071296.140001,
            4148071296.140001,
            4148071296.140001,
            4148071296.140001,
            4148071296.140001,
            4148071296.140001,
            4148071296.140001,
            4148071296.140001,
            4148071296.140001,
            4148071296.140001,
            4148071296.140001,
            4148071296.140001,
            4148071296.140001,
            4148071296.140001,
            4148071296.140001,
            4148071296.140001,
            4148071296.140001,
            4148071296.140001,
            4148071296.140001,
            4148071296.140001,
            4148071296.140001,
            4148071296.140001,
            4148071296.140001,
            4148071296.140001,
            4148071296.140001,
            4148071296.140001,
            4148071296.140001,
            4148071296.140001,
            4148071296.140001,
            4148071296.140001,
            4148071296.140001,
            4148071296.140001,
            4148071296.140001,
            4148071296.140001,
            4148071296.140001,
            4148071296.140001,
            4148071296.140001,
            4148071296.140001,
            4148071296.140001,
            4148071296.140001,
            4148071296.140001,
            4148071296.140001,
            4148071296.140001,
            4148071296.140001,
            4148071296.140001,
            4148071296.140001,
            4148071296.140001,
            4148071296.140001,
            4148071296.140001,
            4148071296.140001,
            4148071296.140001,
            4148071296.140001,
            4963137875.91,
            4963137875.91,
            4963137875.91,
            4963137875.91,
            4963137875.91,
            4963137875.91,
            4963137875.91,
            4963137875.91,
            4963137875.91,
            4963137875.91,
            4963137875.91,
            4963137875.91,
            4963137875.91,
            4963137875.91,
            4963137875.91,
            4963137875.91,
            4963137875.91,
            4963137875.91,
            4963137875.91,
            4963137875.91,
            4963137875.91,
            4963137875.91,
            4963137875.91,
            4963137875.91,
            4963137875.91,
            4963137875.91,
            4963137875.91,
            4963137875.91,
            4963137875.91,
            4963137875.91,
            4963137875.91,
            4963137875.91,
            4963137875.91,
            4963137875.91,
            4963137875.91,
            4963137875.91,
            4963137875.91,
            4963137875.91,
            4963137875.91,
            4963137875.91,
            4963137875.91,
            4963137875.91,
            4963137875.91,
            4963137875.91,
            4963137875.91,
            4963137875.91,
            4963137875.91,
            4963137875.91,
            4963137875.91,
            4963137875.91,
            4963137875.91,
            4963137875.91,
            4963137875.91,
            4963137875.91,
            4963137875.91,
            4963137875.91,
            4963137875.91,
            4963137875.91,
            4963137875.91,
            4963137875.91,
            4963137875.91,
            4963137875.91,
            4963137875.91,
            4963137875.91,
            4963137875.91,
            4963137875.91,
            4963137875.91,
            4963137875.91,
            4963137875.91,
            4963137875.91,
            4963137875.91,
            4963137875.91,
            4963137875.91,
            5382598902.32,
            5382598902.32,
            5382598902.32,
            5382598902.32,
            5382598902.32,
            5382598902.32,
            5382598902.32,
            5382598902.32,
            5382598902.32,
            5382598902.32,
            5382598902.32,
            5382598902.32,
            5382598902.32,
            5382598902.32,
            5382598902.32,
            5382598902.32,
            5382598902.32,
            5382598902.32,
            5382598902.32,
            5382598902.32,
            5382598902.32,
            5382598902.32,
            5382598902.32,
            5382598902.32,
            5382598902.32,
            5382598902.32,
            5382598902.32,
            5382598902.32,
            5382598902.32,
            5382598902.32,
            5382598902.32,
            5382598902.32,
            5382598902.32,
            5382598902.32,
            5382598902.32,
            5382598902.32,
            5382598902.32,
            5382598902.32,
            5382598902.32,
            5382598902.32,
            5382598902.32,
            5382598902.32,
            5382598902.32,
            5382598902.32,
            5382598902.32,
            5382598902.32,
            5382598902.32,
            5382598902.32,
            5382598902.32,
            5382598902.32,
            5382598902.32,
            5382598902.32,
            5382598902.32,
            5382598902.32,
            5382598902.32,
            5382598902.32,
            5382598902.32,
            5382598902.32,
            5382598902.32,
            5382598902.32,
            5382598902.32,
            5382598902.32,
            5382598902.32,
            5382598902.32,
            5382598902.32,
            5382598902.32,
            5382598902.32,
            5382598902.32,
            5382598902.32,
            5382598902.32,
            5382598902.32,
            5382598902.32,
            5382598902.32,
            6069537153.050001,
            6069537153.050001,
            6069537153.050001,
            6069537153.050001,
            6069537153.050001,
            6069537153.050001,
            6069537153.050001,
            6069537153.050001,
            6069537153.050001,
            6069537153.050001,
            6069537153.050001,
            6069537153.050001,
            6069537153.050001,
            6069537153.050001,
            6069537153.050001,
            6069537153.050001,
            6069537153.050001,
            6069537153.050001,
            6069537153.050001,
            6069537153.050001,
            6069537153.050001,
            6069537153.050001,
            6069537153.050001,
            6069537153.050001,
            6069537153.050001,
            6069537153.050001,
            6069537153.050001,
            6069537153.050001,
            6069537153.050001,
            6069537153.050001,
            6069537153.050001,
            6069537153.050001,
            6069537153.050001,
            6069537153.050001,
            6069537153.050001,
            6069537153.050001,
            6069537153.050001,
            6069537153.050001,
            6069537153.050001,
            6069537153.050001,
            6069537153.050001,
            6069537153.050001,
            6069537153.050001,
            6069537153.050001,
            6069537153.050001,
            6069537153.050001,
            6069537153.050001,
            6069537153.050001,
            6069537153.050001,
            6069537153.050001,
            6069537153.050001,
            6069537153.050001,
            6069537153.050001,
            6069537153.050001,
            6069537153.050001,
            6069537153.050001,
            6069537153.050001,
            6069537153.050001,
            6069537153.050001,
            6069537153.050001,
            6069537153.050001,
            6069537153.050001,
            6069537153.050001,
            6069537153.050001,
            6069537153.050001,
            6069537153.050001,
            6069537153.050001,
            6069537153.050001,
            6069537153.050001,
            6069537153.050001,
            6069537153.050001,
            6069537153.050001,
            6069537153.050001,
            6779900503,
            6779900503,
            6779900503,
            6779900503,
            6779900503,
            6779900503,
            6779900503,
            6779900503,
            6779900503,
            6779900503,
            6779900503,
            6779900503,
            6779900503,
            6779900503,
            6779900503,
            6779900503,
            6779900503,
            6779900503,
            6779900503,
            6779900503,
            6779900503,
            6779900503,
            6779900503,
            6779900503,
            6779900503,
            6779900503,
            6779900503,
            6779900503,
            6779900503,
            6779900503,
            6779900503,
            6779900503,
            6779900503,
            6779900503,
            6779900503,
            6779900503,
            6779900503,
            6779900503,
            6779900503,
            6779900503,
            6779900503,
            6779900503,
            6779900503,
            6779900503,
            6779900503,
            6779900503,
            6779900503,
            6779900503,
            6779900503,
            6779900503,
            6779900503,
            6779900503,
            6779900503,
            6779900503,
            6779900503,
            6779900503,
            6779900503,
            6779900503,
            6779900503,
            6779900503,
            6779900503,
            6779900503,
            6779900503,
            6779900503,
            6779900503,
            6779900503,
            6779900503,
            6779900503,
            6779900503,
            6779900503,
            6779900503,
            6779900503,
            6779900503
           ]
          },
          {
           "axis": {
            "matches": true
           },
           "label": "Year",
           "values": [
            "2015-01-01T00:00:00",
            "2015-01-01T00:00:00",
            "2015-01-01T00:00:00",
            "2015-01-01T00:00:00",
            "2015-01-01T00:00:00",
            "2015-01-01T00:00:00",
            "2015-01-01T00:00:00",
            "2015-01-01T00:00:00",
            "2015-01-01T00:00:00",
            "2015-01-01T00:00:00",
            "2015-01-01T00:00:00",
            "2015-01-01T00:00:00",
            "2015-01-01T00:00:00",
            "2015-01-01T00:00:00",
            "2015-01-01T00:00:00",
            "2015-01-01T00:00:00",
            "2015-01-01T00:00:00",
            "2015-01-01T00:00:00",
            "2015-01-01T00:00:00",
            "2015-01-01T00:00:00",
            "2015-01-01T00:00:00",
            "2015-01-01T00:00:00",
            "2015-01-01T00:00:00",
            "2015-01-01T00:00:00",
            "2015-01-01T00:00:00",
            "2015-01-01T00:00:00",
            "2015-01-01T00:00:00",
            "2015-01-01T00:00:00",
            "2015-01-01T00:00:00",
            "2015-01-01T00:00:00",
            "2015-01-01T00:00:00",
            "2015-01-01T00:00:00",
            "2015-01-01T00:00:00",
            "2015-01-01T00:00:00",
            "2015-01-01T00:00:00",
            "2015-01-01T00:00:00",
            "2015-01-01T00:00:00",
            "2015-01-01T00:00:00",
            "2015-01-01T00:00:00",
            "2015-01-01T00:00:00",
            "2015-01-01T00:00:00",
            "2015-01-01T00:00:00",
            "2015-01-01T00:00:00",
            "2015-01-01T00:00:00",
            "2015-01-01T00:00:00",
            "2015-01-01T00:00:00",
            "2015-01-01T00:00:00",
            "2015-01-01T00:00:00",
            "2015-01-01T00:00:00",
            "2015-01-01T00:00:00",
            "2015-01-01T00:00:00",
            "2015-01-01T00:00:00",
            "2015-01-01T00:00:00",
            "2015-01-01T00:00:00",
            "2015-01-01T00:00:00",
            "2015-01-01T00:00:00",
            "2015-01-01T00:00:00",
            "2015-01-01T00:00:00",
            "2015-01-01T00:00:00",
            "2015-01-01T00:00:00",
            "2015-01-01T00:00:00",
            "2015-01-01T00:00:00",
            "2015-01-01T00:00:00",
            "2015-01-01T00:00:00",
            "2015-01-01T00:00:00",
            "2015-01-01T00:00:00",
            "2015-01-01T00:00:00",
            "2015-01-01T00:00:00",
            "2015-01-01T00:00:00",
            "2015-01-01T00:00:00",
            "2015-01-01T00:00:00",
            "2015-01-01T00:00:00",
            "2015-01-01T00:00:00",
            "2016-01-01T00:00:00",
            "2016-01-01T00:00:00",
            "2016-01-01T00:00:00",
            "2016-01-01T00:00:00",
            "2016-01-01T00:00:00",
            "2016-01-01T00:00:00",
            "2016-01-01T00:00:00",
            "2016-01-01T00:00:00",
            "2016-01-01T00:00:00",
            "2016-01-01T00:00:00",
            "2016-01-01T00:00:00",
            "2016-01-01T00:00:00",
            "2016-01-01T00:00:00",
            "2016-01-01T00:00:00",
            "2016-01-01T00:00:00",
            "2016-01-01T00:00:00",
            "2016-01-01T00:00:00",
            "2016-01-01T00:00:00",
            "2016-01-01T00:00:00",
            "2016-01-01T00:00:00",
            "2016-01-01T00:00:00",
            "2016-01-01T00:00:00",
            "2016-01-01T00:00:00",
            "2016-01-01T00:00:00",
            "2016-01-01T00:00:00",
            "2016-01-01T00:00:00",
            "2016-01-01T00:00:00",
            "2016-01-01T00:00:00",
            "2016-01-01T00:00:00",
            "2016-01-01T00:00:00",
            "2016-01-01T00:00:00",
            "2016-01-01T00:00:00",
            "2016-01-01T00:00:00",
            "2016-01-01T00:00:00",
            "2016-01-01T00:00:00",
            "2016-01-01T00:00:00",
            "2016-01-01T00:00:00",
            "2016-01-01T00:00:00",
            "2016-01-01T00:00:00",
            "2016-01-01T00:00:00",
            "2016-01-01T00:00:00",
            "2016-01-01T00:00:00",
            "2016-01-01T00:00:00",
            "2016-01-01T00:00:00",
            "2016-01-01T00:00:00",
            "2016-01-01T00:00:00",
            "2016-01-01T00:00:00",
            "2016-01-01T00:00:00",
            "2016-01-01T00:00:00",
            "2016-01-01T00:00:00",
            "2016-01-01T00:00:00",
            "2016-01-01T00:00:00",
            "2016-01-01T00:00:00",
            "2016-01-01T00:00:00",
            "2016-01-01T00:00:00",
            "2016-01-01T00:00:00",
            "2016-01-01T00:00:00",
            "2016-01-01T00:00:00",
            "2016-01-01T00:00:00",
            "2016-01-01T00:00:00",
            "2016-01-01T00:00:00",
            "2016-01-01T00:00:00",
            "2016-01-01T00:00:00",
            "2016-01-01T00:00:00",
            "2016-01-01T00:00:00",
            "2016-01-01T00:00:00",
            "2016-01-01T00:00:00",
            "2016-01-01T00:00:00",
            "2016-01-01T00:00:00",
            "2016-01-01T00:00:00",
            "2016-01-01T00:00:00",
            "2016-01-01T00:00:00",
            "2016-01-01T00:00:00",
            "2017-01-01T00:00:00",
            "2017-01-01T00:00:00",
            "2017-01-01T00:00:00",
            "2017-01-01T00:00:00",
            "2017-01-01T00:00:00",
            "2017-01-01T00:00:00",
            "2017-01-01T00:00:00",
            "2017-01-01T00:00:00",
            "2017-01-01T00:00:00",
            "2017-01-01T00:00:00",
            "2017-01-01T00:00:00",
            "2017-01-01T00:00:00",
            "2017-01-01T00:00:00",
            "2017-01-01T00:00:00",
            "2017-01-01T00:00:00",
            "2017-01-01T00:00:00",
            "2017-01-01T00:00:00",
            "2017-01-01T00:00:00",
            "2017-01-01T00:00:00",
            "2017-01-01T00:00:00",
            "2017-01-01T00:00:00",
            "2017-01-01T00:00:00",
            "2017-01-01T00:00:00",
            "2017-01-01T00:00:00",
            "2017-01-01T00:00:00",
            "2017-01-01T00:00:00",
            "2017-01-01T00:00:00",
            "2017-01-01T00:00:00",
            "2017-01-01T00:00:00",
            "2017-01-01T00:00:00",
            "2017-01-01T00:00:00",
            "2017-01-01T00:00:00",
            "2017-01-01T00:00:00",
            "2017-01-01T00:00:00",
            "2017-01-01T00:00:00",
            "2017-01-01T00:00:00",
            "2017-01-01T00:00:00",
            "2017-01-01T00:00:00",
            "2017-01-01T00:00:00",
            "2017-01-01T00:00:00",
            "2017-01-01T00:00:00",
            "2017-01-01T00:00:00",
            "2017-01-01T00:00:00",
            "2017-01-01T00:00:00",
            "2017-01-01T00:00:00",
            "2017-01-01T00:00:00",
            "2017-01-01T00:00:00",
            "2017-01-01T00:00:00",
            "2017-01-01T00:00:00",
            "2017-01-01T00:00:00",
            "2017-01-01T00:00:00",
            "2017-01-01T00:00:00",
            "2017-01-01T00:00:00",
            "2017-01-01T00:00:00",
            "2017-01-01T00:00:00",
            "2017-01-01T00:00:00",
            "2017-01-01T00:00:00",
            "2017-01-01T00:00:00",
            "2017-01-01T00:00:00",
            "2017-01-01T00:00:00",
            "2017-01-01T00:00:00",
            "2017-01-01T00:00:00",
            "2017-01-01T00:00:00",
            "2017-01-01T00:00:00",
            "2017-01-01T00:00:00",
            "2017-01-01T00:00:00",
            "2017-01-01T00:00:00",
            "2017-01-01T00:00:00",
            "2017-01-01T00:00:00",
            "2017-01-01T00:00:00",
            "2017-01-01T00:00:00",
            "2017-01-01T00:00:00",
            "2017-01-01T00:00:00",
            "2018-01-01T00:00:00",
            "2018-01-01T00:00:00",
            "2018-01-01T00:00:00",
            "2018-01-01T00:00:00",
            "2018-01-01T00:00:00",
            "2018-01-01T00:00:00",
            "2018-01-01T00:00:00",
            "2018-01-01T00:00:00",
            "2018-01-01T00:00:00",
            "2018-01-01T00:00:00",
            "2018-01-01T00:00:00",
            "2018-01-01T00:00:00",
            "2018-01-01T00:00:00",
            "2018-01-01T00:00:00",
            "2018-01-01T00:00:00",
            "2018-01-01T00:00:00",
            "2018-01-01T00:00:00",
            "2018-01-01T00:00:00",
            "2018-01-01T00:00:00",
            "2018-01-01T00:00:00",
            "2018-01-01T00:00:00",
            "2018-01-01T00:00:00",
            "2018-01-01T00:00:00",
            "2018-01-01T00:00:00",
            "2018-01-01T00:00:00",
            "2018-01-01T00:00:00",
            "2018-01-01T00:00:00",
            "2018-01-01T00:00:00",
            "2018-01-01T00:00:00",
            "2018-01-01T00:00:00",
            "2018-01-01T00:00:00",
            "2018-01-01T00:00:00",
            "2018-01-01T00:00:00",
            "2018-01-01T00:00:00",
            "2018-01-01T00:00:00",
            "2018-01-01T00:00:00",
            "2018-01-01T00:00:00",
            "2018-01-01T00:00:00",
            "2018-01-01T00:00:00",
            "2018-01-01T00:00:00",
            "2018-01-01T00:00:00",
            "2018-01-01T00:00:00",
            "2018-01-01T00:00:00",
            "2018-01-01T00:00:00",
            "2018-01-01T00:00:00",
            "2018-01-01T00:00:00",
            "2018-01-01T00:00:00",
            "2018-01-01T00:00:00",
            "2018-01-01T00:00:00",
            "2018-01-01T00:00:00",
            "2018-01-01T00:00:00",
            "2018-01-01T00:00:00",
            "2018-01-01T00:00:00",
            "2018-01-01T00:00:00",
            "2018-01-01T00:00:00",
            "2018-01-01T00:00:00",
            "2018-01-01T00:00:00",
            "2018-01-01T00:00:00",
            "2018-01-01T00:00:00",
            "2018-01-01T00:00:00",
            "2018-01-01T00:00:00",
            "2018-01-01T00:00:00",
            "2018-01-01T00:00:00",
            "2018-01-01T00:00:00",
            "2018-01-01T00:00:00",
            "2018-01-01T00:00:00",
            "2018-01-01T00:00:00",
            "2018-01-01T00:00:00",
            "2018-01-01T00:00:00",
            "2018-01-01T00:00:00",
            "2018-01-01T00:00:00",
            "2018-01-01T00:00:00",
            "2018-01-01T00:00:00",
            "2019-01-01T00:00:00",
            "2019-01-01T00:00:00",
            "2019-01-01T00:00:00",
            "2019-01-01T00:00:00",
            "2019-01-01T00:00:00",
            "2019-01-01T00:00:00",
            "2019-01-01T00:00:00",
            "2019-01-01T00:00:00",
            "2019-01-01T00:00:00",
            "2019-01-01T00:00:00",
            "2019-01-01T00:00:00",
            "2019-01-01T00:00:00",
            "2019-01-01T00:00:00",
            "2019-01-01T00:00:00",
            "2019-01-01T00:00:00",
            "2019-01-01T00:00:00",
            "2019-01-01T00:00:00",
            "2019-01-01T00:00:00",
            "2019-01-01T00:00:00",
            "2019-01-01T00:00:00",
            "2019-01-01T00:00:00",
            "2019-01-01T00:00:00",
            "2019-01-01T00:00:00",
            "2019-01-01T00:00:00",
            "2019-01-01T00:00:00",
            "2019-01-01T00:00:00",
            "2019-01-01T00:00:00",
            "2019-01-01T00:00:00",
            "2019-01-01T00:00:00",
            "2019-01-01T00:00:00",
            "2019-01-01T00:00:00",
            "2019-01-01T00:00:00",
            "2019-01-01T00:00:00",
            "2019-01-01T00:00:00",
            "2019-01-01T00:00:00",
            "2019-01-01T00:00:00",
            "2019-01-01T00:00:00",
            "2019-01-01T00:00:00",
            "2019-01-01T00:00:00",
            "2019-01-01T00:00:00",
            "2019-01-01T00:00:00",
            "2019-01-01T00:00:00",
            "2019-01-01T00:00:00",
            "2019-01-01T00:00:00",
            "2019-01-01T00:00:00",
            "2019-01-01T00:00:00",
            "2019-01-01T00:00:00",
            "2019-01-01T00:00:00",
            "2019-01-01T00:00:00",
            "2019-01-01T00:00:00",
            "2019-01-01T00:00:00",
            "2019-01-01T00:00:00",
            "2019-01-01T00:00:00",
            "2019-01-01T00:00:00",
            "2019-01-01T00:00:00",
            "2019-01-01T00:00:00",
            "2019-01-01T00:00:00",
            "2019-01-01T00:00:00",
            "2019-01-01T00:00:00",
            "2019-01-01T00:00:00",
            "2019-01-01T00:00:00",
            "2019-01-01T00:00:00",
            "2019-01-01T00:00:00",
            "2019-01-01T00:00:00",
            "2019-01-01T00:00:00",
            "2019-01-01T00:00:00",
            "2019-01-01T00:00:00",
            "2019-01-01T00:00:00",
            "2019-01-01T00:00:00",
            "2019-01-01T00:00:00",
            "2019-01-01T00:00:00",
            "2019-01-01T00:00:00",
            "2019-01-01T00:00:00",
            "2020-01-01T00:00:00",
            "2020-01-01T00:00:00",
            "2020-01-01T00:00:00",
            "2020-01-01T00:00:00",
            "2020-01-01T00:00:00",
            "2020-01-01T00:00:00",
            "2020-01-01T00:00:00",
            "2020-01-01T00:00:00",
            "2020-01-01T00:00:00",
            "2020-01-01T00:00:00",
            "2020-01-01T00:00:00",
            "2020-01-01T00:00:00",
            "2020-01-01T00:00:00",
            "2020-01-01T00:00:00",
            "2020-01-01T00:00:00",
            "2020-01-01T00:00:00",
            "2020-01-01T00:00:00",
            "2020-01-01T00:00:00",
            "2020-01-01T00:00:00",
            "2020-01-01T00:00:00",
            "2020-01-01T00:00:00",
            "2020-01-01T00:00:00",
            "2020-01-01T00:00:00",
            "2020-01-01T00:00:00",
            "2020-01-01T00:00:00",
            "2020-01-01T00:00:00",
            "2020-01-01T00:00:00",
            "2020-01-01T00:00:00",
            "2020-01-01T00:00:00",
            "2020-01-01T00:00:00",
            "2020-01-01T00:00:00",
            "2020-01-01T00:00:00",
            "2020-01-01T00:00:00",
            "2020-01-01T00:00:00",
            "2020-01-01T00:00:00",
            "2020-01-01T00:00:00",
            "2020-01-01T00:00:00",
            "2020-01-01T00:00:00",
            "2020-01-01T00:00:00",
            "2020-01-01T00:00:00",
            "2020-01-01T00:00:00",
            "2020-01-01T00:00:00",
            "2020-01-01T00:00:00",
            "2020-01-01T00:00:00",
            "2020-01-01T00:00:00",
            "2020-01-01T00:00:00",
            "2020-01-01T00:00:00",
            "2020-01-01T00:00:00",
            "2020-01-01T00:00:00",
            "2020-01-01T00:00:00",
            "2020-01-01T00:00:00",
            "2020-01-01T00:00:00",
            "2020-01-01T00:00:00",
            "2020-01-01T00:00:00",
            "2020-01-01T00:00:00",
            "2020-01-01T00:00:00",
            "2020-01-01T00:00:00",
            "2020-01-01T00:00:00",
            "2020-01-01T00:00:00",
            "2020-01-01T00:00:00",
            "2020-01-01T00:00:00",
            "2020-01-01T00:00:00",
            "2020-01-01T00:00:00",
            "2020-01-01T00:00:00",
            "2020-01-01T00:00:00",
            "2020-01-01T00:00:00",
            "2020-01-01T00:00:00",
            "2020-01-01T00:00:00",
            "2020-01-01T00:00:00",
            "2020-01-01T00:00:00",
            "2020-01-01T00:00:00",
            "2020-01-01T00:00:00",
            "2020-01-01T00:00:00",
            "2021-01-01T00:00:00",
            "2021-01-01T00:00:00",
            "2021-01-01T00:00:00",
            "2021-01-01T00:00:00",
            "2021-01-01T00:00:00",
            "2021-01-01T00:00:00",
            "2021-01-01T00:00:00",
            "2021-01-01T00:00:00",
            "2021-01-01T00:00:00",
            "2021-01-01T00:00:00",
            "2021-01-01T00:00:00",
            "2021-01-01T00:00:00",
            "2021-01-01T00:00:00",
            "2021-01-01T00:00:00",
            "2021-01-01T00:00:00",
            "2021-01-01T00:00:00",
            "2021-01-01T00:00:00",
            "2021-01-01T00:00:00",
            "2021-01-01T00:00:00",
            "2021-01-01T00:00:00",
            "2021-01-01T00:00:00",
            "2021-01-01T00:00:00",
            "2021-01-01T00:00:00",
            "2021-01-01T00:00:00",
            "2021-01-01T00:00:00",
            "2021-01-01T00:00:00",
            "2021-01-01T00:00:00",
            "2021-01-01T00:00:00",
            "2021-01-01T00:00:00",
            "2021-01-01T00:00:00",
            "2021-01-01T00:00:00",
            "2021-01-01T00:00:00",
            "2021-01-01T00:00:00",
            "2021-01-01T00:00:00",
            "2021-01-01T00:00:00",
            "2021-01-01T00:00:00",
            "2021-01-01T00:00:00",
            "2021-01-01T00:00:00",
            "2021-01-01T00:00:00",
            "2021-01-01T00:00:00",
            "2021-01-01T00:00:00",
            "2021-01-01T00:00:00",
            "2021-01-01T00:00:00",
            "2021-01-01T00:00:00",
            "2021-01-01T00:00:00",
            "2021-01-01T00:00:00",
            "2021-01-01T00:00:00",
            "2021-01-01T00:00:00",
            "2021-01-01T00:00:00",
            "2021-01-01T00:00:00",
            "2021-01-01T00:00:00",
            "2021-01-01T00:00:00",
            "2021-01-01T00:00:00",
            "2021-01-01T00:00:00",
            "2021-01-01T00:00:00",
            "2021-01-01T00:00:00",
            "2021-01-01T00:00:00",
            "2021-01-01T00:00:00",
            "2021-01-01T00:00:00",
            "2021-01-01T00:00:00",
            "2021-01-01T00:00:00",
            "2021-01-01T00:00:00",
            "2021-01-01T00:00:00",
            "2021-01-01T00:00:00",
            "2021-01-01T00:00:00",
            "2021-01-01T00:00:00",
            "2021-01-01T00:00:00",
            "2021-01-01T00:00:00",
            "2021-01-01T00:00:00",
            "2021-01-01T00:00:00",
            "2021-01-01T00:00:00",
            "2021-01-01T00:00:00",
            "2021-01-01T00:00:00"
           ]
          }
         ],
         "hovertemplate": "%{xaxis.title.text}=%{x}<br>%{yaxis.title.text}=%{y}<extra></extra>",
         "legendgroup": "",
         "marker": {
          "color": "#636efa",
          "symbol": "circle"
         },
         "name": "",
         "showlegend": false,
         "type": "splom"
        }
       ],
       "layout": {
        "dragmode": "select",
        "legend": {
         "tracegroupgap": 0
        },
        "margin": {
         "t": 60
        },
        "template": {
         "data": {
          "bar": [
           {
            "error_x": {
             "color": "#2a3f5f"
            },
            "error_y": {
             "color": "#2a3f5f"
            },
            "marker": {
             "line": {
              "color": "#E5ECF6",
              "width": 0.5
             },
             "pattern": {
              "fillmode": "overlay",
              "size": 10,
              "solidity": 0.2
             }
            },
            "type": "bar"
           }
          ],
          "barpolar": [
           {
            "marker": {
             "line": {
              "color": "#E5ECF6",
              "width": 0.5
             },
             "pattern": {
              "fillmode": "overlay",
              "size": 10,
              "solidity": 0.2
             }
            },
            "type": "barpolar"
           }
          ],
          "carpet": [
           {
            "aaxis": {
             "endlinecolor": "#2a3f5f",
             "gridcolor": "white",
             "linecolor": "white",
             "minorgridcolor": "white",
             "startlinecolor": "#2a3f5f"
            },
            "baxis": {
             "endlinecolor": "#2a3f5f",
             "gridcolor": "white",
             "linecolor": "white",
             "minorgridcolor": "white",
             "startlinecolor": "#2a3f5f"
            },
            "type": "carpet"
           }
          ],
          "choropleth": [
           {
            "colorbar": {
             "outlinewidth": 0,
             "ticks": ""
            },
            "type": "choropleth"
           }
          ],
          "contour": [
           {
            "colorbar": {
             "outlinewidth": 0,
             "ticks": ""
            },
            "colorscale": [
             [
              0,
              "#0d0887"
             ],
             [
              0.1111111111111111,
              "#46039f"
             ],
             [
              0.2222222222222222,
              "#7201a8"
             ],
             [
              0.3333333333333333,
              "#9c179e"
             ],
             [
              0.4444444444444444,
              "#bd3786"
             ],
             [
              0.5555555555555556,
              "#d8576b"
             ],
             [
              0.6666666666666666,
              "#ed7953"
             ],
             [
              0.7777777777777778,
              "#fb9f3a"
             ],
             [
              0.8888888888888888,
              "#fdca26"
             ],
             [
              1,
              "#f0f921"
             ]
            ],
            "type": "contour"
           }
          ],
          "contourcarpet": [
           {
            "colorbar": {
             "outlinewidth": 0,
             "ticks": ""
            },
            "type": "contourcarpet"
           }
          ],
          "heatmap": [
           {
            "colorbar": {
             "outlinewidth": 0,
             "ticks": ""
            },
            "colorscale": [
             [
              0,
              "#0d0887"
             ],
             [
              0.1111111111111111,
              "#46039f"
             ],
             [
              0.2222222222222222,
              "#7201a8"
             ],
             [
              0.3333333333333333,
              "#9c179e"
             ],
             [
              0.4444444444444444,
              "#bd3786"
             ],
             [
              0.5555555555555556,
              "#d8576b"
             ],
             [
              0.6666666666666666,
              "#ed7953"
             ],
             [
              0.7777777777777778,
              "#fb9f3a"
             ],
             [
              0.8888888888888888,
              "#fdca26"
             ],
             [
              1,
              "#f0f921"
             ]
            ],
            "type": "heatmap"
           }
          ],
          "heatmapgl": [
           {
            "colorbar": {
             "outlinewidth": 0,
             "ticks": ""
            },
            "colorscale": [
             [
              0,
              "#0d0887"
             ],
             [
              0.1111111111111111,
              "#46039f"
             ],
             [
              0.2222222222222222,
              "#7201a8"
             ],
             [
              0.3333333333333333,
              "#9c179e"
             ],
             [
              0.4444444444444444,
              "#bd3786"
             ],
             [
              0.5555555555555556,
              "#d8576b"
             ],
             [
              0.6666666666666666,
              "#ed7953"
             ],
             [
              0.7777777777777778,
              "#fb9f3a"
             ],
             [
              0.8888888888888888,
              "#fdca26"
             ],
             [
              1,
              "#f0f921"
             ]
            ],
            "type": "heatmapgl"
           }
          ],
          "histogram": [
           {
            "marker": {
             "pattern": {
              "fillmode": "overlay",
              "size": 10,
              "solidity": 0.2
             }
            },
            "type": "histogram"
           }
          ],
          "histogram2d": [
           {
            "colorbar": {
             "outlinewidth": 0,
             "ticks": ""
            },
            "colorscale": [
             [
              0,
              "#0d0887"
             ],
             [
              0.1111111111111111,
              "#46039f"
             ],
             [
              0.2222222222222222,
              "#7201a8"
             ],
             [
              0.3333333333333333,
              "#9c179e"
             ],
             [
              0.4444444444444444,
              "#bd3786"
             ],
             [
              0.5555555555555556,
              "#d8576b"
             ],
             [
              0.6666666666666666,
              "#ed7953"
             ],
             [
              0.7777777777777778,
              "#fb9f3a"
             ],
             [
              0.8888888888888888,
              "#fdca26"
             ],
             [
              1,
              "#f0f921"
             ]
            ],
            "type": "histogram2d"
           }
          ],
          "histogram2dcontour": [
           {
            "colorbar": {
             "outlinewidth": 0,
             "ticks": ""
            },
            "colorscale": [
             [
              0,
              "#0d0887"
             ],
             [
              0.1111111111111111,
              "#46039f"
             ],
             [
              0.2222222222222222,
              "#7201a8"
             ],
             [
              0.3333333333333333,
              "#9c179e"
             ],
             [
              0.4444444444444444,
              "#bd3786"
             ],
             [
              0.5555555555555556,
              "#d8576b"
             ],
             [
              0.6666666666666666,
              "#ed7953"
             ],
             [
              0.7777777777777778,
              "#fb9f3a"
             ],
             [
              0.8888888888888888,
              "#fdca26"
             ],
             [
              1,
              "#f0f921"
             ]
            ],
            "type": "histogram2dcontour"
           }
          ],
          "mesh3d": [
           {
            "colorbar": {
             "outlinewidth": 0,
             "ticks": ""
            },
            "type": "mesh3d"
           }
          ],
          "parcoords": [
           {
            "line": {
             "colorbar": {
              "outlinewidth": 0,
              "ticks": ""
             }
            },
            "type": "parcoords"
           }
          ],
          "pie": [
           {
            "automargin": true,
            "type": "pie"
           }
          ],
          "scatter": [
           {
            "fillpattern": {
             "fillmode": "overlay",
             "size": 10,
             "solidity": 0.2
            },
            "type": "scatter"
           }
          ],
          "scatter3d": [
           {
            "line": {
             "colorbar": {
              "outlinewidth": 0,
              "ticks": ""
             }
            },
            "marker": {
             "colorbar": {
              "outlinewidth": 0,
              "ticks": ""
             }
            },
            "type": "scatter3d"
           }
          ],
          "scattercarpet": [
           {
            "marker": {
             "colorbar": {
              "outlinewidth": 0,
              "ticks": ""
             }
            },
            "type": "scattercarpet"
           }
          ],
          "scattergeo": [
           {
            "marker": {
             "colorbar": {
              "outlinewidth": 0,
              "ticks": ""
             }
            },
            "type": "scattergeo"
           }
          ],
          "scattergl": [
           {
            "marker": {
             "colorbar": {
              "outlinewidth": 0,
              "ticks": ""
             }
            },
            "type": "scattergl"
           }
          ],
          "scattermapbox": [
           {
            "marker": {
             "colorbar": {
              "outlinewidth": 0,
              "ticks": ""
             }
            },
            "type": "scattermapbox"
           }
          ],
          "scatterpolar": [
           {
            "marker": {
             "colorbar": {
              "outlinewidth": 0,
              "ticks": ""
             }
            },
            "type": "scatterpolar"
           }
          ],
          "scatterpolargl": [
           {
            "marker": {
             "colorbar": {
              "outlinewidth": 0,
              "ticks": ""
             }
            },
            "type": "scatterpolargl"
           }
          ],
          "scatterternary": [
           {
            "marker": {
             "colorbar": {
              "outlinewidth": 0,
              "ticks": ""
             }
            },
            "type": "scatterternary"
           }
          ],
          "surface": [
           {
            "colorbar": {
             "outlinewidth": 0,
             "ticks": ""
            },
            "colorscale": [
             [
              0,
              "#0d0887"
             ],
             [
              0.1111111111111111,
              "#46039f"
             ],
             [
              0.2222222222222222,
              "#7201a8"
             ],
             [
              0.3333333333333333,
              "#9c179e"
             ],
             [
              0.4444444444444444,
              "#bd3786"
             ],
             [
              0.5555555555555556,
              "#d8576b"
             ],
             [
              0.6666666666666666,
              "#ed7953"
             ],
             [
              0.7777777777777778,
              "#fb9f3a"
             ],
             [
              0.8888888888888888,
              "#fdca26"
             ],
             [
              1,
              "#f0f921"
             ]
            ],
            "type": "surface"
           }
          ],
          "table": [
           {
            "cells": {
             "fill": {
              "color": "#EBF0F8"
             },
             "line": {
              "color": "white"
             }
            },
            "header": {
             "fill": {
              "color": "#C8D4E3"
             },
             "line": {
              "color": "white"
             }
            },
            "type": "table"
           }
          ]
         },
         "layout": {
          "annotationdefaults": {
           "arrowcolor": "#2a3f5f",
           "arrowhead": 0,
           "arrowwidth": 1
          },
          "autotypenumbers": "strict",
          "coloraxis": {
           "colorbar": {
            "outlinewidth": 0,
            "ticks": ""
           }
          },
          "colorscale": {
           "diverging": [
            [
             0,
             "#8e0152"
            ],
            [
             0.1,
             "#c51b7d"
            ],
            [
             0.2,
             "#de77ae"
            ],
            [
             0.3,
             "#f1b6da"
            ],
            [
             0.4,
             "#fde0ef"
            ],
            [
             0.5,
             "#f7f7f7"
            ],
            [
             0.6,
             "#e6f5d0"
            ],
            [
             0.7,
             "#b8e186"
            ],
            [
             0.8,
             "#7fbc41"
            ],
            [
             0.9,
             "#4d9221"
            ],
            [
             1,
             "#276419"
            ]
           ],
           "sequential": [
            [
             0,
             "#0d0887"
            ],
            [
             0.1111111111111111,
             "#46039f"
            ],
            [
             0.2222222222222222,
             "#7201a8"
            ],
            [
             0.3333333333333333,
             "#9c179e"
            ],
            [
             0.4444444444444444,
             "#bd3786"
            ],
            [
             0.5555555555555556,
             "#d8576b"
            ],
            [
             0.6666666666666666,
             "#ed7953"
            ],
            [
             0.7777777777777778,
             "#fb9f3a"
            ],
            [
             0.8888888888888888,
             "#fdca26"
            ],
            [
             1,
             "#f0f921"
            ]
           ],
           "sequentialminus": [
            [
             0,
             "#0d0887"
            ],
            [
             0.1111111111111111,
             "#46039f"
            ],
            [
             0.2222222222222222,
             "#7201a8"
            ],
            [
             0.3333333333333333,
             "#9c179e"
            ],
            [
             0.4444444444444444,
             "#bd3786"
            ],
            [
             0.5555555555555556,
             "#d8576b"
            ],
            [
             0.6666666666666666,
             "#ed7953"
            ],
            [
             0.7777777777777778,
             "#fb9f3a"
            ],
            [
             0.8888888888888888,
             "#fdca26"
            ],
            [
             1,
             "#f0f921"
            ]
           ]
          },
          "colorway": [
           "#636efa",
           "#EF553B",
           "#00cc96",
           "#ab63fa",
           "#FFA15A",
           "#19d3f3",
           "#FF6692",
           "#B6E880",
           "#FF97FF",
           "#FECB52"
          ],
          "font": {
           "color": "#2a3f5f"
          },
          "geo": {
           "bgcolor": "white",
           "lakecolor": "white",
           "landcolor": "#E5ECF6",
           "showlakes": true,
           "showland": true,
           "subunitcolor": "white"
          },
          "hoverlabel": {
           "align": "left"
          },
          "hovermode": "closest",
          "mapbox": {
           "style": "light"
          },
          "paper_bgcolor": "white",
          "plot_bgcolor": "#E5ECF6",
          "polar": {
           "angularaxis": {
            "gridcolor": "white",
            "linecolor": "white",
            "ticks": ""
           },
           "bgcolor": "#E5ECF6",
           "radialaxis": {
            "gridcolor": "white",
            "linecolor": "white",
            "ticks": ""
           }
          },
          "scene": {
           "xaxis": {
            "backgroundcolor": "#E5ECF6",
            "gridcolor": "white",
            "gridwidth": 2,
            "linecolor": "white",
            "showbackground": true,
            "ticks": "",
            "zerolinecolor": "white"
           },
           "yaxis": {
            "backgroundcolor": "#E5ECF6",
            "gridcolor": "white",
            "gridwidth": 2,
            "linecolor": "white",
            "showbackground": true,
            "ticks": "",
            "zerolinecolor": "white"
           },
           "zaxis": {
            "backgroundcolor": "#E5ECF6",
            "gridcolor": "white",
            "gridwidth": 2,
            "linecolor": "white",
            "showbackground": true,
            "ticks": "",
            "zerolinecolor": "white"
           }
          },
          "shapedefaults": {
           "line": {
            "color": "#2a3f5f"
           }
          },
          "ternary": {
           "aaxis": {
            "gridcolor": "white",
            "linecolor": "white",
            "ticks": ""
           },
           "baxis": {
            "gridcolor": "white",
            "linecolor": "white",
            "ticks": ""
           },
           "bgcolor": "#E5ECF6",
           "caxis": {
            "gridcolor": "white",
            "linecolor": "white",
            "ticks": ""
           }
          },
          "title": {
           "x": 0.05
          },
          "xaxis": {
           "automargin": true,
           "gridcolor": "white",
           "linecolor": "white",
           "ticks": "",
           "title": {
            "standoff": 15
           },
           "zerolinecolor": "white",
           "zerolinewidth": 2
          },
          "yaxis": {
           "automargin": true,
           "gridcolor": "white",
           "linecolor": "white",
           "ticks": "",
           "title": {
            "standoff": 15
           },
           "zerolinecolor": "white",
           "zerolinewidth": 2
          }
         }
        }
       }
      }
     },
     "metadata": {},
     "output_type": "display_data"
    }
   ],
   "source": [
    "fig = px.scatter_matrix(df,\n",
    "    dimensions=[\"number_crimes\", \"amount_executed\", \"Year\"])\n",
    "fig.show()"
   ]
  },
  {
   "cell_type": "markdown",
   "metadata": {},
   "source": [
    "# Automatic EDA"
   ]
  },
  {
   "cell_type": "code",
   "execution_count": 104,
   "metadata": {},
   "outputs": [
    {
     "data": {
      "application/vnd.jupyter.widget-view+json": {
       "model_id": "ee5b0d3e565c422ca295d916389aeddc",
       "version_major": 2,
       "version_minor": 0
      },
      "text/plain": [
       "Summarize dataset:   0%|          | 0/5 [00:00<?, ?it/s]"
      ]
     },
     "metadata": {},
     "output_type": "display_data"
    },
    {
     "data": {
      "application/vnd.jupyter.widget-view+json": {
       "model_id": "728886a3d815473f86280312e28e2ef5",
       "version_major": 2,
       "version_minor": 0
      },
      "text/plain": [
       "Generate report structure:   0%|          | 0/1 [00:00<?, ?it/s]"
      ]
     },
     "metadata": {},
     "output_type": "display_data"
    },
    {
     "data": {
      "application/vnd.jupyter.widget-view+json": {
       "model_id": "387d53868b7a4a5185630459991b88f6",
       "version_major": 2,
       "version_minor": 0
      },
      "text/plain": [
       "Render HTML:   0%|          | 0/1 [00:00<?, ?it/s]"
      ]
     },
     "metadata": {},
     "output_type": "display_data"
    },
    {
     "data": {
      "application/vnd.jupyter.widget-view+json": {
       "model_id": "579e1f33500344a1b07c6466a7d9a667",
       "version_major": 2,
       "version_minor": 0
      },
      "text/plain": [
       "Export report to file:   0%|          | 0/1 [00:00<?, ?it/s]"
      ]
     },
     "metadata": {},
     "output_type": "display_data"
    },
    {
     "data": {
      "application/vnd.jupyter.widget-view+json": {
       "model_id": "a3b3d2e8d3474bb3b0be2d3bbd17a14a",
       "version_major": 2,
       "version_minor": 0
      },
      "text/plain": [
       "                                             |          | [  0%]   00:00 -> (? left)"
      ]
     },
     "metadata": {},
     "output_type": "display_data"
    },
    {
     "name": "stdout",
     "output_type": "stream",
     "text": [
      "Report project2-sweetview.html was generated! NOTEBOOK/COLAB USERS: the web browser MAY not pop up, regardless, the report IS saved in your notebook/colab files.\n"
     ]
    }
   ],
   "source": [
    "from pandas_profiling import ProfileReport \n",
    "import sweetviz\n",
    "\n",
    "# pandas profiling\n",
    "profile = ProfileReport(\n",
    "    df, \n",
    "    explorative=True,\n",
    "    title='Project 2', \n",
    "    html={'style':{'full_width':True}}\n",
    ") \n",
    "profile.to_file(\"project2-pandas-profiler.html\")\n",
    "\n",
    "\n",
    "# Sweetview\n",
    "sw_df = sweetviz.analyze(df)\n",
    "sw_df.show_html(\"project2-sweetview.html\")"
   ]
  }
 ],
 "metadata": {
  "kernelspec": {
   "display_name": "Python 3.9.12 ('tensorflow')",
   "language": "python",
   "name": "python3"
  },
  "language_info": {
   "codemirror_mode": {
    "name": "ipython",
    "version": 3
   },
   "file_extension": ".py",
   "mimetype": "text/x-python",
   "name": "python",
   "nbconvert_exporter": "python",
   "pygments_lexer": "ipython3",
   "version": "3.9.12"
  },
  "vscode": {
   "interpreter": {
    "hash": "d3b01e2a14984206e5080169a8f036c87414fd0567ddb818e42ddcf1c249c2f8"
   }
  }
 },
 "nbformat": 4,
 "nbformat_minor": 2
}
